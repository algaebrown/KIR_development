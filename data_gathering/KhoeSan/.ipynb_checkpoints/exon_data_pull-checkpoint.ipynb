{
 "cells": [
  {
   "cell_type": "code",
   "execution_count": 2,
   "metadata": {},
   "outputs": [
    {
     "name": "stdout",
     "output_type": "stream",
     "text": [
      "Populating the interactive namespace from numpy and matplotlib\n",
      "Populating the interactive namespace from numpy and matplotlib\n"
     ]
    },
    {
     "name": "stderr",
     "output_type": "stream",
     "text": [
      "WARNING: pylab import has clobbered these variables: ['normal']\n",
      "`%matplotlib` prevents importing * from pylab and numpy\n"
     ]
    }
   ],
   "source": [
    "import io\n",
    "from IPython.nbformat import current\n",
    "def execute_notebook(nbfile):\n",
    "    with io.open(nbfile) as f:\n",
    "        nb = current.read(f, 'json')\n",
    "    ip = get_ipython()\n",
    "    for cell in nb.worksheets[0].cells:\n",
    "        if cell.cell_type != 'code':\n",
    "            continue\n",
    "        ip.run_cell(cell.input)\n",
    "execute_notebook(\"/cellar/users/ramarty/Projects/kir/KIR_development/bin/imports.ipynb\")\n",
    "execute_notebook(\"/cellar/users/ramarty/Projects/kir/KIR_development/bin/samples.ipynb\")"
   ]
  },
  {
   "cell_type": "markdown",
   "metadata": {},
   "source": [
    "## Getting the k-mer information for KhoeSan individuals"
   ]
  },
  {
   "cell_type": "code",
   "execution_count": 3,
   "metadata": {
    "collapsed": true
   },
   "outputs": [],
   "source": [
    "samples = ['SRR1171049', 'SRR1171058', 'SRR1175182', 'SRR1258307', \n",
    "            'SRR1171017', 'SRR1171051', 'SRR1175179', 'SRR1175183', 'SRR1265483',\n",
    "            'SRR1171020', 'SRR1171052', 'SRR1175180', 'SRR1175184', 'SRR1265484',\n",
    "            'SRR1171021', 'SRR1171056', 'SRR1175181', 'SRR1258307']"
   ]
  },
  {
   "cell_type": "code",
   "execution_count": 4,
   "metadata": {
    "collapsed": true
   },
   "outputs": [],
   "source": [
    "out_dirs = ['/nrnb/users/ramarty/kir/PING/KhoeSan/sra/{0}'.format(x) for x in samples]"
   ]
  },
  {
   "cell_type": "code",
   "execution_count": 8,
   "metadata": {},
   "outputs": [],
   "source": [
    "def create_cluster_script_gather(samples, out_dirs):\n",
    "\n",
    "    new_script_file = '/cellar/users/ramarty/Projects/kir/KIR_development/data_gathering/KhoeSan/exon_data_pull.sh'\n",
    "    \n",
    "    with open(new_script_file, 'w') as out_file:\n",
    "        out_file.write(\"#! /bin/csh\\n\")\n",
    "        out_file.write(\"#$ -V\\n\")\n",
    "        out_file.write(\"#$ -S /bin/csh\\n\")\n",
    "        out_file.write(\"#$ -o /cellar/users/ramarty/Data/kir/sge-system_files\\n\")\n",
    "        out_file.write(\"#$ -e /cellar/users/ramarty/Data/kir/sge-system_files\\n\")\n",
    "        out_file.write(\"#$ -cwd\\n\")\n",
    "        out_file.write(\"#$ -t 1-{0}\\n\".format(len(samples)))\n",
    "        #out_file.write(\"#$ -t 1-2\\n\".format(len(samples)))\n",
    "        out_file.write(\"#$ -l h_vmem=30G\\n\")\n",
    "        out_file.write(\"#$ -tc 30\\n\")\n",
    "        out_file.write(\"#$ -l long\")\n",
    "        out_file.write(\"\\n\")\n",
    "\n",
    "        out_file.write(\"set samples=({0})\\n\".format(\" \".join(samples)))\n",
    "        out_file.write(\"set outs=({0})\\n\".format(\" \".join(out_dirs)))\n",
    "        out_file.write(\"\\n\")\n",
    "\n",
    "        out_file.write(\"set sample=$samples[$SGE_TASK_ID]\\n\")\n",
    "        out_file.write(\"set out=$outs[$SGE_TASK_ID]\\n\")\n",
    "        out_file.write(\"\\n\")\n",
    "\n",
    "        out_file.write(\"date\\n\")\n",
    "        out_file.write(\"hostname\\n\")\n",
    "        \n",
    "        # Make directories\n",
    "        out_file.write(\"mkdir $out\\n\")\n",
    "        out_file.write(\"mkdir $out/features\\n\")\n",
    "                \n",
    "        # Already have a single fastq\n",
    "        #out_file.write(\"mv $out.fastq $out/full_exome.fastq\\n\")\n",
    "        \n",
    "        # Map to reference\n",
    "        out_file.write(\"python /cellar/users/ramarty/Projects/kir/KIR_development/data_gathering/bin/map_to_reference.py $out/full_exome.fastq $out/full_exome_kir.bam /cellar/users/ramarty/Data/kir/ref/all_alleles cellar\\n\")\n",
    "        out_file.write(\"echo Mapped to KIR.\\n\")\n",
    "        out_file.write(\"python /cellar/users/ramarty/Projects/kir/KIR_development/data_gathering/bin/convert_to_fastq.py $out/full_exome_kir.bam $out/full_exome_kir.fastq\\n\")\n",
    "        out_file.write(\"echo Stripped reads.\\n\")\n",
    "        \n",
    "        # Collect components        \n",
    "        out_file.write(\"python /cellar/users/ramarty/Projects/kir/KIR_development/data_gathering/bin/component_collection.py $out/full_exome_kir.fastq $out/features /cellar/users/ramarty/Data/kir/kmers/kmer_groups/component_and_four_mers.txt components_four_kir\\n\")\n",
    "        out_file.write(\"echo Components gathered - KIR.\\n\")\n",
    "        out_file.write(\"python /cellar/users/ramarty/Projects/kir/KIR_development/data_gathering/bin/component_collection.py $out/full_exome.fastq $out/features /cellar/users/ramarty/Data/kir/kmers/kmer_groups/component_and_four_mers.txt components_four\\n\")\n",
    "        out_file.write(\"echo Components gathered - whole exome.\\n\")\n",
    "        \n",
    "        # Run PING\n",
    "        #out_file.write(\"cd /nrnb/users/ramarty/programs/PING\\n\")\n",
    "        #out_file.write(\"Rscript --vanilla /cellar/users/ramarty/Projects/kir/KIR_development/data_gathering/bin/runPING_extractor.R $out/ filtered_exome_1.fastq filtered_exome_2.fastq $out/PING_sequences/ 4\\n\")\n",
    "        #out_file.write(\"Rscript --vanilla /cellar/users/ramarty/Projects/kir/KIR_development/data_gathering/bin/runPING_gc_caller.R $out/PING_sequences/  $out/PING/ 40000\\n\")\n",
    "        #out_file.write(\"echo PING completed.\\n\")\n",
    "        #out_file.write(\"date\\n\")\n",
    "        \n",
    "        \n",
    "        # Clean up\n",
    "        #out_file.write(\"rm $out/full_exome*.fastq\\n\")\n",
    "        out_file.write(\"rm $out/full_exome_kir.fastq\\n\")\n",
    "        out_file.write(\"rm $out/full_exome_sorted*\\n\")\n",
    "        out_file.write(\"rm $out/full_exome*bam\\n\")\n",
    "        #out_file.write(\"rm -r $out/PING*\\n\")\n",
    "        out_file.write(\"date\\n\")"
   ]
  },
  {
   "cell_type": "code",
   "execution_count": 9,
   "metadata": {
    "collapsed": true
   },
   "outputs": [],
   "source": [
    "create_cluster_script_gather(samples, out_dirs)"
   ]
  },
  {
   "cell_type": "code",
   "execution_count": null,
   "metadata": {
    "collapsed": true
   },
   "outputs": [],
   "source": []
  }
 ],
 "metadata": {
  "kernelspec": {
   "display_name": "Python 3",
   "language": "python",
   "name": "python3"
  },
  "language_info": {
   "codemirror_mode": {
    "name": "ipython",
    "version": 3
   },
   "file_extension": ".py",
   "mimetype": "text/x-python",
   "name": "python",
   "nbconvert_exporter": "python",
   "pygments_lexer": "ipython3",
   "version": "3.7.3"
  }
 },
 "nbformat": 4,
 "nbformat_minor": 1
}
