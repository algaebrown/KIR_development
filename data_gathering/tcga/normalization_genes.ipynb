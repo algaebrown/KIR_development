{
 "cells": [
  {
   "cell_type": "markdown",
   "metadata": {},
   "source": [
    "# What this file does\n",
    "1. extract the 100 random genes\n",
    "2. point to the genome region so that they can be stripped using samtools as in `exon_data_pull.ipynb`\n",
    "3. create k-mers for those random genes `'/cellar/users/ramarty/Data/kir/kmers/reference_genes/random_genes.100.txt'`"
   ]
  },
  {
   "cell_type": "code",
   "execution_count": 1,
   "metadata": {
    "scrolled": true
   },
   "outputs": [
    {
     "name": "stderr",
     "output_type": "stream",
     "text": [
      "/cellar/users/ramarty/anaconda/lib/python2.7/site-packages/IPython/nbformat.py:13: ShimWarning: The `IPython.nbformat` package has been deprecated since IPython 4.0. You should import from nbformat instead.\n",
      "  \"You should import from nbformat instead.\", ShimWarning)\n",
      "/cellar/users/ramarty/anaconda/lib/python2.7/site-packages/nbformat/current.py:19: UserWarning: nbformat.current is deprecated.\n",
      "\n",
      "- use nbformat for read/write/validate public API\n",
      "- use nbformat.vX directly to composing notebooks of a particular version\n",
      "\n",
      "  \"\"\")\n"
     ]
    },
    {
     "name": "stdout",
     "output_type": "stream",
     "text": [
      "Populating the interactive namespace from numpy and matplotlib\n",
      "Populating the interactive namespace from numpy and matplotlib\n"
     ]
    }
   ],
   "source": [
    "import io\n",
    "from IPython.nbformat import current\n",
    "def execute_notebook(nbfile):\n",
    "    with io.open(nbfile) as f:\n",
    "        nb = current.read(f, 'json')\n",
    "    ip = get_ipython()\n",
    "    for cell in nb.worksheets[0].cells:\n",
    "        if cell.cell_type != 'code':\n",
    "            continue\n",
    "        ip.run_cell(cell.input)\n",
    "execute_notebook(\"/cellar/users/ramarty/Projects/kir/KIR_development/bin/imports.ipynb\")\n",
    "execute_notebook(\"/cellar/users/ramarty/Projects/kir/KIR_development/bin/samples.ipynb\")"
   ]
  },
  {
   "cell_type": "markdown",
   "metadata": {},
   "source": [
    "### Make set of random genes"
   ]
  },
  {
   "cell_type": "code",
   "execution_count": 67,
   "metadata": {},
   "outputs": [],
   "source": [
    "input_file = '/cellar/users/mdow/Data/hg38/hg38_ensembl.fa'"
   ]
  },
  {
   "cell_type": "code",
   "execution_count": 69,
   "metadata": {},
   "outputs": [],
   "source": [
    "names, sequences, chromosomes, starts, ends = [], [], [], [], []\n",
    "fasta_sequences = SeqIO.parse(open(input_file),'fasta')\n",
    "for fasta in fasta_sequences:\n",
    "    try:\n",
    "        name, sequence = fasta.id, fasta.seq.tostring()\n",
    "        if int(fasta.description.split('chromosome:')[1].split(':')[1]):\n",
    "            fasta.description.split('chromosome:')[1].split(':')[3]\n",
    "            names.append(name)\n",
    "            sequences.append(sequence)\n",
    "            chromosomes.append(fasta.description.split('chromosome:')[1].split(':')[1])\n",
    "            starts.append(fasta.description.split('chromosome:')[1].split(':')[2])\n",
    "            ends.append(fasta.description.split('chromosome:')[1].split(':')[3])\n",
    "    except:\n",
    "        None"
   ]
  },
  {
   "cell_type": "code",
   "execution_count": 70,
   "metadata": {},
   "outputs": [],
   "source": [
    "df = pd.DataFrame({'Gene': names,\n",
    "                  'Sequences': sequences,\n",
    "                  'Chromosome': chromosomes,\n",
    "                  'Start': starts,\n",
    "                  'End': ends})"
   ]
  },
  {
   "cell_type": "code",
   "execution_count": 71,
   "metadata": {},
   "outputs": [],
   "source": [
    "random_genes = df.sample(100)"
   ]
  },
  {
   "cell_type": "code",
   "execution_count": 72,
   "metadata": {},
   "outputs": [
    {
     "data": {
      "text/html": [
       "<div>\n",
       "<style scoped>\n",
       "    .dataframe tbody tr th:only-of-type {\n",
       "        vertical-align: middle;\n",
       "    }\n",
       "\n",
       "    .dataframe tbody tr th {\n",
       "        vertical-align: top;\n",
       "    }\n",
       "\n",
       "    .dataframe thead th {\n",
       "        text-align: right;\n",
       "    }\n",
       "</style>\n",
       "<table border=\"1\" class=\"dataframe\">\n",
       "  <thead>\n",
       "    <tr style=\"text-align: right;\">\n",
       "      <th></th>\n",
       "      <th>Chromosome</th>\n",
       "      <th>End</th>\n",
       "      <th>Gene</th>\n",
       "      <th>Sequences</th>\n",
       "      <th>Start</th>\n",
       "    </tr>\n",
       "  </thead>\n",
       "  <tbody>\n",
       "    <tr>\n",
       "      <th>19110</th>\n",
       "      <td>19</td>\n",
       "      <td>19106934</td>\n",
       "      <td>ENST00000594070</td>\n",
       "      <td>AGTACACACAGGACCGTGGCTGCGGAATGCAGTTGAGGGCATCCCT...</td>\n",
       "      <td>19095943</td>\n",
       "    </tr>\n",
       "    <tr>\n",
       "      <th>58862</th>\n",
       "      <td>11</td>\n",
       "      <td>47642452</td>\n",
       "      <td>ENST00000539759</td>\n",
       "      <td>CCAGTCAGGTGCTCCTGGGCTCCGGTCTCACCATCCTGTCCCAGCC...</td>\n",
       "      <td>47617315</td>\n",
       "    </tr>\n",
       "    <tr>\n",
       "      <th>41407</th>\n",
       "      <td>2</td>\n",
       "      <td>75561323</td>\n",
       "      <td>ENST00000486489</td>\n",
       "      <td>CTGAATACAGGCTCAAAGCAGGCGACGGGACAGGAATGAGAGGATG...</td>\n",
       "      <td>75558483</td>\n",
       "    </tr>\n",
       "    <tr>\n",
       "      <th>14229</th>\n",
       "      <td>1</td>\n",
       "      <td>154968874</td>\n",
       "      <td>ENST00000444179</td>\n",
       "      <td>GGCAGGCAGGCGCTGGGTCTGAGTACCCCTCTTTCCCCAGGGAGGC...</td>\n",
       "      <td>154966425</td>\n",
       "    </tr>\n",
       "    <tr>\n",
       "      <th>55814</th>\n",
       "      <td>4</td>\n",
       "      <td>174304280</td>\n",
       "      <td>ENST00000503053</td>\n",
       "      <td>TGGCTGTAGCGACTGGTTGCGGGAGGCTGGACTCTGGTGACTGTGT...</td>\n",
       "      <td>174284018</td>\n",
       "    </tr>\n",
       "  </tbody>\n",
       "</table>\n",
       "</div>"
      ],
      "text/plain": [
       "      Chromosome        End             Gene  \\\n",
       "19110         19   19106934  ENST00000594070   \n",
       "58862         11   47642452  ENST00000539759   \n",
       "41407          2   75561323  ENST00000486489   \n",
       "14229          1  154968874  ENST00000444179   \n",
       "55814          4  174304280  ENST00000503053   \n",
       "\n",
       "                                               Sequences      Start  \n",
       "19110  AGTACACACAGGACCGTGGCTGCGGAATGCAGTTGAGGGCATCCCT...   19095943  \n",
       "58862  CCAGTCAGGTGCTCCTGGGCTCCGGTCTCACCATCCTGTCCCAGCC...   47617315  \n",
       "41407  CTGAATACAGGCTCAAAGCAGGCGACGGGACAGGAATGAGAGGATG...   75558483  \n",
       "14229  GGCAGGCAGGCGCTGGGTCTGAGTACCCCTCTTTCCCCAGGGAGGC...  154966425  \n",
       "55814  TGGCTGTAGCGACTGGTTGCGGGAGGCTGGACTCTGGTGACTGTGT...  174284018  "
      ]
     },
     "execution_count": 72,
     "metadata": {},
     "output_type": "execute_result"
    }
   ],
   "source": [
    "random_genes.head()"
   ]
  },
  {
   "cell_type": "code",
   "execution_count": 73,
   "metadata": {},
   "outputs": [
    {
     "name": "stdout",
     "output_type": "stream",
     "text": [
      "19\n"
     ]
    }
   ],
   "source": [
    "for row in random_genes.iterrows():\n",
    "    print row[1]['Chromosome']\n",
    "    break"
   ]
  },
  {
   "cell_type": "code",
   "execution_count": 74,
   "metadata": {},
   "outputs": [],
   "source": [
    "with open('/cellar/users/ramarty/Data/kir/ref/random_genes.fa', 'w') as outfile:\n",
    "    for row in random_genes.iterrows():\n",
    "        outfile.write('>{0}, chr{1}:{2}-{3}\\n'.format(row[1]['Gene'], row[1]['Chromosome'], \n",
    "                                                      row[1]['Start'], row[1]['End']))\n",
    "        outfile.write('{0}\\n'.format(row[1]['Sequences']))"
   ]
  },
  {
   "cell_type": "markdown",
   "metadata": {},
   "source": [
    "Merge with all_alleles and build <br>\n",
    "in: /data/cellardata/users/ramarty/kir/ref <br>\n",
    "cat all_alleles random_genes.fa > all_alleles_and_random <br>\n",
    "/cellar/users/ramarty/programs/bowtie2-2.2.9/bowtie2-build all_alleles_and_random all_alleles_and_random"
   ]
  },
  {
   "cell_type": "markdown",
   "metadata": {},
   "source": [
    "### Get the regions of the random genes"
   ]
  },
  {
   "cell_type": "code",
   "execution_count": 2,
   "metadata": {},
   "outputs": [
    {
     "name": "stderr",
     "output_type": "stream",
     "text": [
      "/cellar/users/ramarty/anaconda/lib/python2.7/site-packages/Bio/Seq.py:354: BiopythonDeprecationWarning: This method is obsolete; please use str(my_seq) instead of my_seq.tostring().\n",
      "  BiopythonDeprecationWarning)\n"
     ]
    }
   ],
   "source": [
    "# Get the regions of the \n",
    "input_file = '/cellar/users/ramarty/Data/kir/ref/random_genes.fa'\n",
    "names, sequences = [], []\n",
    "fasta_sequences = SeqIO.parse(open(input_file),'fasta')\n",
    "for fasta in fasta_sequences:\n",
    "    name, sequence = fasta.description, fasta.seq.tostring()\n",
    "    names.append(name)\n",
    "    sequences.append(sequence)\n",
    "\n",
    "df = pd.DataFrame({'Gene': names,\n",
    "                  'Sequences': sequences})\n",
    "\n",
    "fasta.description\n",
    "\n",
    "regions = [x.split(', ')[1] for x in df.Gene]\n",
    "\n",
    "regions_str = ' '.join(regions)"
   ]
  },
  {
   "cell_type": "markdown",
   "metadata": {},
   "source": [
    "### Make k-mers in line with those genes <br>\n",
    "Test of a single one to make sure my alignment isn't crap <br>\n",
    "Must do all other ones later"
   ]
  },
  {
   "cell_type": "code",
   "execution_count": 2,
   "metadata": {},
   "outputs": [
    {
     "name": "stderr",
     "output_type": "stream",
     "text": [
      "/cellar/users/ramarty/anaconda/lib/python2.7/site-packages/Bio/Seq.py:354: BiopythonDeprecationWarning: This method is obsolete; please use str(my_seq) instead of my_seq.tostring().\n",
      "  BiopythonDeprecationWarning)\n"
     ]
    }
   ],
   "source": [
    "input_file = '/cellar/users/ramarty/Data/kir/ref/random_genes.fa'\n",
    "names, sequences = [], []\n",
    "fasta_sequences = SeqIO.parse(open(input_file),'fasta')\n",
    "for fasta in fasta_sequences:\n",
    "    name, sequence = fasta.description, fasta.seq.tostring()\n",
    "    names.append(name)\n",
    "    sequences.append(sequence)\n",
    "\n",
    "df = pd.DataFrame({'Gene': names,\n",
    "                  'Sequences': sequences})\n"
   ]
  },
  {
   "cell_type": "code",
   "execution_count": 8,
   "metadata": {},
   "outputs": [],
   "source": [
    "kmers = []\n",
    "for sequence in df.Sequences:\n",
    "    entire_set = []\n",
    "    for i in range(len(sequence)-30):\n",
    "        entire_set.append(sequence[i:i+30])\n",
    "    if len(entire_set) > 100:\n",
    "        kmers.extend(pd.Series(entire_set).sample(100))\n",
    "    else:\n",
    "        kmers.extend(entire_set)"
   ]
  },
  {
   "cell_type": "code",
   "execution_count": 10,
   "metadata": {
    "scrolled": true
   },
   "outputs": [
    {
     "data": {
      "text/plain": [
       "9936"
      ]
     },
     "execution_count": 10,
     "metadata": {},
     "output_type": "execute_result"
    }
   ],
   "source": [
    "len(kmers)"
   ]
  },
  {
   "cell_type": "code",
   "execution_count": 11,
   "metadata": {},
   "outputs": [],
   "source": [
    "with open('/cellar/users/ramarty/Data/kir/kmers/reference_genes/random_genes.100.txt', 'w') as outfile:\n",
    "    for kmer in kmers:\n",
    "        outfile.write('{0}\\n'.format(kmer))"
   ]
  },
  {
   "cell_type": "markdown",
   "metadata": {},
   "source": [
    "Figure out which goes with which?"
   ]
  },
  {
   "cell_type": "code",
   "execution_count": null,
   "metadata": {},
   "outputs": [],
   "source": []
  }
 ],
 "metadata": {
  "kernelspec": {
   "display_name": "Python 3",
   "language": "python",
   "name": "python3"
  },
  "language_info": {
   "codemirror_mode": {
    "name": "ipython",
    "version": 3
   },
   "file_extension": ".py",
   "mimetype": "text/x-python",
   "name": "python",
   "nbconvert_exporter": "python",
   "pygments_lexer": "ipython3",
   "version": "3.7.3"
  }
 },
 "nbformat": 4,
 "nbformat_minor": 2
}
