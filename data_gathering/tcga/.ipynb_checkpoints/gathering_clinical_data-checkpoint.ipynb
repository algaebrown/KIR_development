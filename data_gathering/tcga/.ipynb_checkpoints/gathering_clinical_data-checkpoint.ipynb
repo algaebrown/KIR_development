{
 "cells": [
  {
   "cell_type": "code",
   "execution_count": 1,
   "metadata": {},
   "outputs": [
    {
     "name": "stderr",
     "output_type": "stream",
     "text": [
      "/cellar/users/ramarty/anaconda/lib/python2.7/site-packages/IPython/nbformat.py:13: ShimWarning: The `IPython.nbformat` package has been deprecated since IPython 4.0. You should import from nbformat instead.\n",
      "  \"You should import from nbformat instead.\", ShimWarning)\n",
      "/cellar/users/ramarty/anaconda/lib/python2.7/site-packages/nbformat/current.py:19: UserWarning: nbformat.current is deprecated.\n",
      "\n",
      "- use nbformat for read/write/validate public API\n",
      "- use nbformat.vX directly to composing notebooks of a particular version\n",
      "\n",
      "  \"\"\")\n"
     ]
    },
    {
     "name": "stdout",
     "output_type": "stream",
     "text": [
      "Populating the interactive namespace from numpy and matplotlib\n"
     ]
    }
   ],
   "source": [
    "import io\n",
    "from IPython.nbformat import current\n",
    "def execute_notebook(nbfile):\n",
    "    with io.open(nbfile) as f:\n",
    "        nb = current.read(f, 'json')\n",
    "    ip = get_ipython()\n",
    "    for cell in nb.worksheets[0].cells:\n",
    "        if cell.cell_type != 'code':\n",
    "            continue\n",
    "        ip.run_cell(cell.input)\n",
    "execute_notebook(\"/cellar/users/ramarty/Projects/hla_sex/bin/imports.ipynb\")"
   ]
  },
  {
   "cell_type": "code",
   "execution_count": null,
   "metadata": {},
   "outputs": [],
   "source": []
  },
  {
   "cell_type": "code",
   "execution_count": 2,
   "metadata": {},
   "outputs": [],
   "source": [
    "import warnings\n",
    "warnings.filterwarnings('ignore')"
   ]
  },
  {
   "cell_type": "markdown",
   "metadata": {},
   "source": [
    "### Gathering all relevant clinical information <br>\n",
    "Using Brian's firehose download <br>\n",
    "Needed categories: Sex, Age at diagnosis and tumor type"
   ]
  },
  {
   "cell_type": "code",
   "execution_count": 77,
   "metadata": {},
   "outputs": [],
   "source": [
    "categories = ['patient.samples.sample.bcr_sample_barcode', 'patient.age_at_initial_pathologic_diagnosis', \n",
    "              'patient.gender', 'admin.disease_code']\n",
    "alternative_categories = ['patient.samples.sample.bcr_sample_barcode', \n",
    "                          'patient.primary_pathology.age_at_initial_pathologic_diagnosis',\n",
    "                          'patient.gender', 'admin.disease_code']"
   ]
  },
  {
   "cell_type": "code",
   "execution_count": 3,
   "metadata": {},
   "outputs": [],
   "source": [
    "tissues = [x for x in os.listdir('/cellar/users/btsui/Data/firehose/untar/') if x not in ['UCS','PANGI', 'FPPP']]"
   ]
  },
  {
   "cell_type": "code",
   "execution_count": 93,
   "metadata": {},
   "outputs": [],
   "source": [
    "all_dfs = []\n",
    "for tissue in tissues:\n",
    "    try:\n",
    "        tmp_df = pd.read_csv('/cellar/users/btsui/Data/firehose/untar/{0}/gdac.broadinstitute.org_{0}.Merge_Clinical.Level_1.2016071500.0.0/{0}.clin.merged.txt'.format(tissue),\n",
    "               sep='\\t', index_col=0).transpose()\n",
    "        tmp_df = tmp_df[categories]\n",
    "        tmp_df.columns = ['Barcode', 'Age', 'Sex', 'Tissue']\n",
    "        all_dfs.append(tmp_df)\n",
    "    except:\n",
    "        tmp_df = pd.read_csv('/cellar/users/btsui/Data/firehose/untar/{0}/gdac.broadinstitute.org_{0}.Merge_Clinical.Level_1.2016071500.0.0/{0}.clin.merged.txt'.format(tissue),\n",
    "               sep='\\t', index_col=0).transpose()\n",
    "        tmp_df = tmp_df[alternative_categories]\n",
    "        tmp_df.columns = ['Barcode', 'Age', 'Sex', 'Tissue']\n",
    "        all_dfs.append(tmp_df)"
   ]
  },
  {
   "cell_type": "code",
   "execution_count": 145,
   "metadata": {},
   "outputs": [],
   "source": [
    "df = pd.concat(all_dfs)"
   ]
  },
  {
   "cell_type": "code",
   "execution_count": 146,
   "metadata": {
    "collapsed": true
   },
   "outputs": [],
   "source": [
    "def get_title(x):\n",
    "    return x.title()\n",
    "def get_upper(x):\n",
    "    return x.upper()\n",
    "def get_upper_shortenend(x):\n",
    "    return x.upper()[:12]"
   ]
  },
  {
   "cell_type": "code",
   "execution_count": 147,
   "metadata": {},
   "outputs": [],
   "source": [
    "df.Barcode = df.Barcode.apply(get_upper_shortenend)\n",
    "df.Tissue = df.Tissue.apply(get_upper)\n",
    "df.Sex = df.Sex.astype(str)\n",
    "df.Sex = df.Sex.apply(get_title)"
   ]
  },
  {
   "cell_type": "code",
   "execution_count": 154,
   "metadata": {
    "collapsed": true
   },
   "outputs": [],
   "source": [
    "df = df.dropna().drop_duplicates()"
   ]
  },
  {
   "cell_type": "code",
   "execution_count": 157,
   "metadata": {},
   "outputs": [],
   "source": [
    "df.index = list(df.Barcode)\n",
    "df = df[['Age', 'Sex', 'Tissue']]"
   ]
  },
  {
   "cell_type": "code",
   "execution_count": 158,
   "metadata": {
    "collapsed": true
   },
   "outputs": [],
   "source": [
    "df.to_csv('/cellar/users/ramarty/Data/hla_sex/clean_data/clinical.csv')"
   ]
  },
  {
   "cell_type": "code",
   "execution_count": null,
   "metadata": {
    "collapsed": true
   },
   "outputs": [],
   "source": []
  }
 ],
 "metadata": {
  "kernelspec": {
   "display_name": "Python 3",
   "language": "python",
   "name": "python3"
  },
  "language_info": {
   "codemirror_mode": {
    "name": "ipython",
    "version": 3
   },
   "file_extension": ".py",
   "mimetype": "text/x-python",
   "name": "python",
   "nbconvert_exporter": "python",
   "pygments_lexer": "ipython3",
   "version": "3.7.3"
  }
 },
 "nbformat": 4,
 "nbformat_minor": 1
}
