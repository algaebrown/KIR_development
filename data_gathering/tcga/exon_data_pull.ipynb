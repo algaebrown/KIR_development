{
 "cells": [
  {
   "cell_type": "markdown",
   "metadata": {},
   "source": [
    "# Things this file do:\n",
    "1. download the TCGA exome bam files to /tmp using `/cellar/users/ramarty/tokens/GDC_exome.sh`\n",
    "2. strip the following from the bam file, convert to fastq through `/data_gathering/bin/convert_to_fastq2.py`\n",
    "- KIR region (Chromosome 19)\n",
    "- random genes as defined in `regions_str`\n",
    "- unmapped reads\n",
    "3. map the fastq to all KIR alleles by `data_gathering/bin/map_to_reference.py`\n",
    "4. then convert the mapped reads into fastq again using `/data_gathering/bin/convert_to_fastq2.py`\n",
    "5. finally extract k-mers for each sample through `data_gathering/bin/component_collection.py`\n",
    "\n",
    "Input: `uuid_barcode_map` from '/cellar/users/andreabc/GDC_barcodes/uuid_barcode_map.txt'\n",
    "Output: 1 k-mer count per sample in '/nrnb/users/ramarty/TCGA/exomes/{barcode}/features' "
   ]
  },
  {
   "cell_type": "code",
   "execution_count": 1,
   "metadata": {
    "scrolled": true
   },
   "outputs": [
    {
     "name": "stderr",
     "output_type": "stream",
     "text": [
      "/cellar/users/ramarty/anaconda/lib/python2.7/site-packages/IPython/nbformat.py:13: ShimWarning: The `IPython.nbformat` package has been deprecated since IPython 4.0. You should import from nbformat instead.\n",
      "  \"You should import from nbformat instead.\", ShimWarning)\n",
      "/cellar/users/ramarty/anaconda/lib/python2.7/site-packages/nbformat/current.py:19: UserWarning: nbformat.current is deprecated.\n",
      "\n",
      "- use nbformat for read/write/validate public API\n",
      "- use nbformat.vX directly to composing notebooks of a particular version\n",
      "\n",
      "  \"\"\")\n"
     ]
    },
    {
     "name": "stdout",
     "output_type": "stream",
     "text": [
      "Populating the interactive namespace from numpy and matplotlib\n",
      "Populating the interactive namespace from numpy and matplotlib\n"
     ]
    }
   ],
   "source": [
    "import io\n",
    "from IPython.nbformat import current\n",
    "def execute_notebook(nbfile):\n",
    "    with io.open(nbfile) as f:\n",
    "        nb = current.read(f, 'json')\n",
    "    ip = get_ipython()\n",
    "    for cell in nb.worksheets[0].cells:\n",
    "        if cell.cell_type != 'code':\n",
    "            continue\n",
    "        ip.run_cell(cell.input)\n",
    "execute_notebook(\"/cellar/users/ramarty/Projects/kir/KIR_development/bin/imports.ipynb\")\n",
    "execute_notebook(\"/cellar/users/ramarty/Projects/kir/KIR_development/bin/samples.ipynb\")"
   ]
  },
  {
   "cell_type": "markdown",
   "metadata": {},
   "source": [
    "### Acquire samples to run"
   ]
  },
  {
   "cell_type": "code",
   "execution_count": 2,
   "metadata": {},
   "outputs": [
    {
     "name": "stdout",
     "output_type": "stream",
     "text": [
      "8333 8333\n"
     ]
    },
    {
     "data": {
      "text/plain": [
       "(['164511a9-2f56-49e0-b5cf-9c4be32f8fc7',\n",
       "  '28a75d46-5b6d-4c40-8472-fccc77e3a2d9',\n",
       "  '260e4af3-af8c-42e8-9914-059a08f9d8ae'],\n",
       " ['TCGA-HC-7737', 'TCGA-EJ-5515', 'TCGA-FP-8631'])"
      ]
     },
     "execution_count": 2,
     "metadata": {},
     "output_type": "execute_result"
    }
   ],
   "source": [
    "print len(normal_samples), len(normal_barcodes)\n",
    "\n",
    "out_dirs = ['/nrnb/users/ramarty/TCGA/exomes/{0}'.format(x) for x in normal_barcodes]\n",
    "\n",
    "out_dirs[:5]\n",
    "\n",
    "normal_samples[:3], normal_barcodes[:3]"
   ]
  },
  {
   "cell_type": "code",
   "execution_count": 3,
   "metadata": {},
   "outputs": [
    {
     "data": {
      "text/plain": [
       "['TCGA-HC-7737',\n",
       " 'TCGA-EJ-5515',\n",
       " 'TCGA-FP-8631',\n",
       " 'TCGA-85-8352',\n",
       " 'TCGA-CV-6943']"
      ]
     },
     "execution_count": 3,
     "metadata": {},
     "output_type": "execute_result"
    }
   ],
   "source": [
    "normal_barcodes[:5]"
   ]
  },
  {
   "cell_type": "markdown",
   "metadata": {},
   "source": [
    "### Expanded patient set"
   ]
  },
  {
   "cell_type": "code",
   "execution_count": 4,
   "metadata": {},
   "outputs": [],
   "source": [
    "def get_TARGET(x):\n",
    "    if 'TARGET' in x:\n",
    "        return True\n",
    "    else:\n",
    "        return False\n",
    "def get_origin(x):\n",
    "    return int(x.split('-')[3][:2])\n",
    "\n",
    "uuid_barcode_map = pd.read_csv('/cellar/users/andreabc/GDC_barcodes/uuid_barcode_map.txt', sep='\\t')\n",
    "\n",
    "# only exome: select only aligned reads\n",
    "uuid_barcode_map = uuid_barcode_map[uuid_barcode_map.type == 'aligned_reads']\n",
    "# remove target (other data source that is not TCGA)\n",
    "uuid_barcode_map['TARGET'] = uuid_barcode_map.sample_barcode.apply(get_TARGET)\n",
    "uuid_barcode_map = uuid_barcode_map[~uuid_barcode_map['TARGET']]\n",
    "\n",
    "uuid_barcode_map['origin'] = uuid_barcode_map.sample_barcode.apply(get_origin)\n",
    "uuid_barcode_map = uuid_barcode_map[uuid_barcode_map.origin.isin([10, 11])]\n",
    "\n",
    "uuid_barcode_map = uuid_barcode_map.drop_duplicates('barcode')"
   ]
  },
  {
   "cell_type": "code",
   "execution_count": 5,
   "metadata": {
    "scrolled": true
   },
   "outputs": [
    {
     "data": {
      "text/plain": [
       "10505"
      ]
     },
     "execution_count": 5,
     "metadata": {},
     "output_type": "execute_result"
    }
   ],
   "source": [
    "len(uuid_barcode_map)"
   ]
  },
  {
   "cell_type": "code",
   "execution_count": 6,
   "metadata": {},
   "outputs": [
    {
     "data": {
      "text/html": [
       "<div>\n",
       "<style scoped>\n",
       "    .dataframe tbody tr th:only-of-type {\n",
       "        vertical-align: middle;\n",
       "    }\n",
       "\n",
       "    .dataframe tbody tr th {\n",
       "        vertical-align: top;\n",
       "    }\n",
       "\n",
       "    .dataframe thead th {\n",
       "        text-align: right;\n",
       "    }\n",
       "</style>\n",
       "<table border=\"1\" class=\"dataframe\">\n",
       "  <thead>\n",
       "    <tr style=\"text-align: right;\">\n",
       "      <th></th>\n",
       "      <th>file_id</th>\n",
       "      <th>file_name</th>\n",
       "      <th>barcode</th>\n",
       "      <th>sample_barcode</th>\n",
       "      <th>disease</th>\n",
       "      <th>type</th>\n",
       "      <th>data_format</th>\n",
       "      <th>TARGET</th>\n",
       "      <th>origin</th>\n",
       "    </tr>\n",
       "  </thead>\n",
       "  <tbody>\n",
       "    <tr>\n",
       "      <th>180136</th>\n",
       "      <td>961f0d2a-6b74-47d6-9290-bbb5a3ff3822</td>\n",
       "      <td>C345.TCGA-BP-4967-11A-01D-1462-08.8_gdc_realn.bam</td>\n",
       "      <td>TCGA-BP-4967</td>\n",
       "      <td>TCGA-BP-4967-11A</td>\n",
       "      <td>TCGA-KIRC</td>\n",
       "      <td>aligned_reads</td>\n",
       "      <td>BAM</td>\n",
       "      <td>False</td>\n",
       "      <td>11</td>\n",
       "    </tr>\n",
       "    <tr>\n",
       "      <th>180138</th>\n",
       "      <td>2310be01-3a6b-4103-8bdf-418db1fdcb07</td>\n",
       "      <td>C494.TCGA-TM-A84O-10A-01D-A367-08.1_gdc_realn.bam</td>\n",
       "      <td>TCGA-TM-A84O</td>\n",
       "      <td>TCGA-TM-A84O-10A</td>\n",
       "      <td>TCGA-LGG</td>\n",
       "      <td>aligned_reads</td>\n",
       "      <td>BAM</td>\n",
       "      <td>False</td>\n",
       "      <td>10</td>\n",
       "    </tr>\n",
       "    <tr>\n",
       "      <th>180139</th>\n",
       "      <td>c9236e76-fd07-4946-b0b2-606464be1b34</td>\n",
       "      <td>C828.TCGA-BF-AAP2-10A-01D-A401-08.1_gdc_realn.bam</td>\n",
       "      <td>TCGA-BF-AAP2</td>\n",
       "      <td>TCGA-BF-AAP2-10A</td>\n",
       "      <td>TCGA-SKCM</td>\n",
       "      <td>aligned_reads</td>\n",
       "      <td>BAM</td>\n",
       "      <td>False</td>\n",
       "      <td>10</td>\n",
       "    </tr>\n",
       "    <tr>\n",
       "      <th>180142</th>\n",
       "      <td>ac9a4ab6-8752-42c6-b9fb-d338db61f830</td>\n",
       "      <td>C529.TCGA-EJ-7794-11A-01D-2114-08.1_gdc_realn.bam</td>\n",
       "      <td>TCGA-EJ-7794</td>\n",
       "      <td>TCGA-EJ-7794-11A</td>\n",
       "      <td>TCGA-PRAD</td>\n",
       "      <td>aligned_reads</td>\n",
       "      <td>BAM</td>\n",
       "      <td>False</td>\n",
       "      <td>11</td>\n",
       "    </tr>\n",
       "    <tr>\n",
       "      <th>180143</th>\n",
       "      <td>47b6b844-e690-4f61-b6f1-53a1b08d4df6</td>\n",
       "      <td>C495.TCGA-CV-A45Q-10A-01D-A24F-08.1_gdc_realn.bam</td>\n",
       "      <td>TCGA-CV-A45Q</td>\n",
       "      <td>TCGA-CV-A45Q-10A</td>\n",
       "      <td>TCGA-HNSC</td>\n",
       "      <td>aligned_reads</td>\n",
       "      <td>BAM</td>\n",
       "      <td>False</td>\n",
       "      <td>10</td>\n",
       "    </tr>\n",
       "  </tbody>\n",
       "</table>\n",
       "</div>"
      ],
      "text/plain": [
       "                                     file_id  \\\n",
       "180136  961f0d2a-6b74-47d6-9290-bbb5a3ff3822   \n",
       "180138  2310be01-3a6b-4103-8bdf-418db1fdcb07   \n",
       "180139  c9236e76-fd07-4946-b0b2-606464be1b34   \n",
       "180142  ac9a4ab6-8752-42c6-b9fb-d338db61f830   \n",
       "180143  47b6b844-e690-4f61-b6f1-53a1b08d4df6   \n",
       "\n",
       "                                                file_name       barcode  \\\n",
       "180136  C345.TCGA-BP-4967-11A-01D-1462-08.8_gdc_realn.bam  TCGA-BP-4967   \n",
       "180138  C494.TCGA-TM-A84O-10A-01D-A367-08.1_gdc_realn.bam  TCGA-TM-A84O   \n",
       "180139  C828.TCGA-BF-AAP2-10A-01D-A401-08.1_gdc_realn.bam  TCGA-BF-AAP2   \n",
       "180142  C529.TCGA-EJ-7794-11A-01D-2114-08.1_gdc_realn.bam  TCGA-EJ-7794   \n",
       "180143  C495.TCGA-CV-A45Q-10A-01D-A24F-08.1_gdc_realn.bam  TCGA-CV-A45Q   \n",
       "\n",
       "          sample_barcode    disease           type data_format  TARGET  origin  \n",
       "180136  TCGA-BP-4967-11A  TCGA-KIRC  aligned_reads         BAM   False      11  \n",
       "180138  TCGA-TM-A84O-10A   TCGA-LGG  aligned_reads         BAM   False      10  \n",
       "180139  TCGA-BF-AAP2-10A  TCGA-SKCM  aligned_reads         BAM   False      10  \n",
       "180142  TCGA-EJ-7794-11A  TCGA-PRAD  aligned_reads         BAM   False      11  \n",
       "180143  TCGA-CV-A45Q-10A  TCGA-HNSC  aligned_reads         BAM   False      10  "
      ]
     },
     "execution_count": 6,
     "metadata": {},
     "output_type": "execute_result"
    }
   ],
   "source": [
    "uuid_barcode_map.head()"
   ]
  },
  {
   "cell_type": "code",
   "execution_count": null,
   "metadata": {},
   "outputs": [],
   "source": [
    "# re-run the samples that failed"
   ]
  },
  {
   "cell_type": "code",
   "execution_count": 7,
   "metadata": {},
   "outputs": [],
   "source": [
    "samples = list(uuid_barcode_map.file_id)\n",
    "barcodes = list(uuid_barcode_map.barcode)\n",
    "file_names = list(uuid_barcode_map.file_name)\n",
    "out_dirs = ['/nrnb/users/ramarty/TCGA/exomes/{0}'.format(x) for x in barcodes] ## having not access, these contain remapped KIR and random genes! must qlogin to get them"
   ]
  },
  {
   "cell_type": "code",
   "execution_count": 8,
   "metadata": {},
   "outputs": [
    {
     "data": {
      "text/plain": [
       "(10505, 10505, 10505)"
      ]
     },
     "execution_count": 8,
     "metadata": {},
     "output_type": "execute_result"
    }
   ],
   "source": [
    "len(samples), len(barcodes), len(out_dirs)"
   ]
  },
  {
   "cell_type": "markdown",
   "metadata": {},
   "source": [
    "### Create cluster scripts"
   ]
  },
  {
   "cell_type": "markdown",
   "metadata": {},
   "source": [
    "Clean trash"
   ]
  },
  {
   "cell_type": "code",
   "execution_count": 27,
   "metadata": {},
   "outputs": [],
   "source": [
    "def create_cluster_script_clean(samples, barcodes, out_dirs, file_names):\n",
    "\n",
    "    new_script_file = '/cellar/users/ramarty/Projects/kir/KIR_development/data_gathering/tcga/clean_tmp.sh'\n",
    "\n",
    "    with open(new_script_file, 'w') as out_file:\n",
    "        out_file.write(\"#! /bin/csh\\n\")\n",
    "        out_file.write(\"#$ -V\\n\")\n",
    "        out_file.write(\"#$ -S /bin/csh\\n\")\n",
    "        out_file.write(\"#$ -o /cellar/users/ramarty/Data/kir/sge-system_files\\n\")\n",
    "        out_file.write(\"#$ -e /cellar/users/ramarty/Data/kir/sge-system_files\\n\")\n",
    "        out_file.write(\"#$ -cwd\\n\")\n",
    "        out_file.write(\"#$ -t 1-{0}\\n\".format(len(samples)))\n",
    "        #out_file.write(\"#$ -t 1-200\\n\".format(len(samples)))\n",
    "        out_file.write(\"#$ -l h_vmem=3G\\n\")\n",
    "        out_file.write(\"#$ -tc 20\\n\")\n",
    "        out_file.write(\"#$ -l long\")\n",
    "        out_file.write(\"\\n\")\n",
    "\n",
    "        out_file.write(\"set samples=({0})\\n\".format(\" \".join(samples)))\n",
    "        out_file.write(\"set barcodes=({0})\\n\".format(\" \".join(barcodes)))\n",
    "        out_file.write(\"set outs=({0})\\n\".format(\" \".join(out_dirs)))\n",
    "        out_file.write(\"set files=({0})\\n\".format(\" \".join(file_names)))\n",
    "        out_file.write(\"\\n\")\n",
    "\n",
    "        out_file.write(\"set sample=$samples[$SGE_TASK_ID]\\n\")\n",
    "        out_file.write(\"set barcode=$barcodes[$SGE_TASK_ID]\\n\")\n",
    "        out_file.write(\"set out=$outs[$SGE_TASK_ID]\\n\")\n",
    "        out_file.write(\"set file=$files[$SGE_TASK_ID]\\n\")\n",
    "\n",
    "        out_file.write(\"date\\n\")\n",
    "        out_file.write(\"hostname\\n\")\n",
    "        \n",
    "        # Clean up\n",
    "        out_file.write(\"rm -r /tmp/ramarty/\\n\")\n",
    "        out_file.write(\"rm -r /tmp/ramarty/*\\n\")\n",
    "        out_file.write(\"date\\n\")"
   ]
  },
  {
   "cell_type": "code",
   "execution_count": 28,
   "metadata": {},
   "outputs": [],
   "source": [
    "create_cluster_script_clean(samples, barcodes, out_dirs, file_names)"
   ]
  },
  {
   "cell_type": "markdown",
   "metadata": {},
   "source": [
    "Download, pull sliced bam, pull unmapped, combine into single bam, finish"
   ]
  },
  {
   "cell_type": "code",
   "execution_count": 48,
   "metadata": {
    "scrolled": true
   },
   "outputs": [
    {
     "name": "stderr",
     "output_type": "stream",
     "text": [
      "/cellar/users/ramarty/anaconda/lib/python2.7/site-packages/Bio/Seq.py:354: BiopythonDeprecationWarning: This method is obsolete; please use str(my_seq) instead of my_seq.tostring().\n",
      "  BiopythonDeprecationWarning)\n"
     ]
    }
   ],
   "source": [
    "# generate random gene region to allow samtools to pull it\n",
    "input_file = '/cellar/users/ramarty/Data/kir/ref/random_genes.fa'\n",
    "names, sequences = [], []\n",
    "fasta_sequences = SeqIO.parse(open(input_file),'fasta')\n",
    "for fasta in fasta_sequences:\n",
    "    name, sequence = fasta.description, fasta.seq.tostring()\n",
    "    names.append(name)\n",
    "    sequences.append(sequence)\n",
    "\n",
    "df = pd.DataFrame({'Gene': names,\n",
    "                  'Sequences': sequences})\n",
    "\n",
    "fasta.description\n",
    "\n",
    "regions = [x.split(', ')[1] for x in df.Gene]\n",
    "\n",
    "regions_str = ' '.join(regions)"
   ]
  },
  {
   "cell_type": "code",
   "execution_count": 58,
   "metadata": {},
   "outputs": [],
   "source": [
    "samtools = '/cellar/users/hcarter/programs/samtools-1.2/samtools'\n",
    "def create_cluster_script_sliced(samples, barcodes, out_dirs, file_names):\n",
    "\n",
    "    new_script_file = '/cellar/users/ramarty/Projects/kir/KIR_development/data_gathering/tcga/exon_sliced.sh'\n",
    "\n",
    "    with open(new_script_file, 'w') as out_file:\n",
    "        out_file.write(\"#! /bin/csh\\n\")\n",
    "        out_file.write(\"#$ -V\\n\")\n",
    "        out_file.write(\"#$ -S /bin/csh\\n\")\n",
    "        out_file.write(\"#$ -o /cellar/users/ramarty/Data/kir/sge-system_files\\n\")\n",
    "        out_file.write(\"#$ -e /cellar/users/ramarty/Data/kir/sge-system_files\\n\")\n",
    "        out_file.write(\"#$ -cwd\\n\")\n",
    "        out_file.write(\"#$ -t 1-{0}\\n\".format(len(samples)))\n",
    "        #out_file.write(\"#$ -t 9-9\\n\".format(len(samples)))\n",
    "        out_file.write(\"#$ -l h_vmem=8G\\n\")\n",
    "        out_file.write(\"#$ -tc 30\\n\")\n",
    "        out_file.write(\"#$ -l long\")\n",
    "        out_file.write(\"\\n\")\n",
    "\n",
    "        out_file.write(\"set samples=({0})\\n\".format(\" \".join(samples)))\n",
    "        out_file.write(\"set barcodes=({0})\\n\".format(\" \".join(barcodes)))\n",
    "        out_file.write(\"set outs=({0})\\n\".format(\" \".join(out_dirs)))\n",
    "        out_file.write(\"set files=({0})\\n\".format(\" \".join(file_names)))\n",
    "        out_file.write(\"\\n\")\n",
    "\n",
    "        out_file.write(\"set sample=$samples[$SGE_TASK_ID]\\n\")\n",
    "        out_file.write(\"set barcode=$barcodes[$SGE_TASK_ID]\\n\")\n",
    "        out_file.write(\"set out=$outs[$SGE_TASK_ID]\\n\")\n",
    "        out_file.write(\"set file=$files[$SGE_TASK_ID]\\n\")\n",
    "\n",
    "        out_file.write(\"date\\n\")\n",
    "        out_file.write(\"hostname\\n\")\n",
    "        \n",
    "        # Make directory\n",
    "        out_file.write(\"mkdir $out\\n\")\n",
    "        out_file.write(\"mkdir $out/features\\n\")\n",
    "        out_file.write(\"mkdir /tmp/ramarty\\n\")\n",
    "        out_file.write(\"mkdir /tmp/ramarty/$barcode\\n\")\n",
    "        out_file.write(\"\\n\")\n",
    "        \n",
    "        # Download GDC exome BAM file and process\n",
    "        out_file.write(\"bash /cellar/users/ramarty/tokens/GDC.exome.sh $sample /tmp/ramarty/$barcode\\n\")\n",
    "        out_file.write(\"echo Bam downloaded.\\n\")\n",
    "        out_file.write(\"\\n\")\n",
    "        \n",
    "        # 1. use SAMTOOLS to Pull KIR region bam (chr19)\n",
    "        out_file.write(\"{0} view -b /tmp/ramarty/$barcode/$sample/$file chr19:54025634-55084318 > \".format(samtools) + \\\n",
    "                       \"/tmp/ramarty/$barcode/KIR.bam\\n\")\n",
    "        out_file.write(\"echo Slice KIR region.\\n\")\n",
    "        out_file.write(\"\\n\")\n",
    "        \n",
    "        # 2. Pull random region bam (random genes)\n",
    "        out_file.write(\"{0} view -b /tmp/ramarty/$barcode/$sample/$file {1} > \".format(samtools, regions_str) + \\\n",
    "                       \"/tmp/ramarty/$barcode/random_genes.bam\\n\")\n",
    "        out_file.write(\"echo Slice random regions.\\n\")\n",
    "        out_file.write(\"\\n\")\n",
    "        \n",
    "        # 3. Pull unmapped bam\n",
    "        out_file.write(\"{0} view -b -f 4 /tmp/ramarty/$barcode/$sample/$file > \".format(samtools) + \\\n",
    "                       \"/tmp/ramarty/$barcode/unmapped.bam\\n\")\n",
    "        out_file.write(\"echo Slice unmapped bam.\\n\")\n",
    "        out_file.write(\"\\n\")\n",
    "        \n",
    "        # Combine 1. KIR region, 2. random gene 3. unmapped reads into single bam\n",
    "        out_file.write(\"{0} merge /tmp/ramarty/$barcode/KIR_and_unmapped.bam \".format(samtools) + \\\n",
    "                       \"/tmp/ramarty/$barcode/KIR.bam /tmp/ramarty/$barcode/unmapped.bam \" + \\\n",
    "                       \"/tmp/ramarty/$barcode/random_genes.bam\\n\")\n",
    "        out_file.write(\"echo Combined into single bam.\\n\")\n",
    "        out_file.write(\"\\n\")\n",
    "        \n",
    "        # Strip fastq \n",
    "        out_file.write(\"python /cellar/users/ramarty/Projects/kir/KIR_development/data_gathering/bin/convert_to_fastq2.py \" + \\\n",
    "                       \"/tmp/ramarty/$barcode/KIR_and_unmapped.bam /tmp/ramarty/$barcode/KIR_sorted \" + \\\n",
    "                       \"/tmp/ramarty/$barcode/KIR_dedup /tmp/ramarty/$barcode/KIR_and_unmapped.fastq cellar\\n\")\n",
    "        out_file.write(\"echo Fastq stripped.\\n\")\n",
    "        out_file.write(\"\\n\")\n",
    "        \n",
    "        # Map to reference $out = '/nrnb/users/ramarty/TCGA/exomes/{barcode}'\n",
    "        out_file.write(\"python /cellar/users/ramarty/Projects/kir/KIR_development/data_gathering/bin/map_to_reference.py \" + \\\n",
    "                       \"/tmp/ramarty/$barcode/KIR_and_unmapped.fastq $out/KIR_and_unmapped.aligned.bam \" + \\\n",
    "                       \"/cellar/users/ramarty/Data/kir/ref/all_alleles_and_random cellar\\n\") ####$out/KIR_and_unmapped.aligned.bam\n",
    "        out_file.write(\"echo Mapped to KIR.\\n\")\n",
    "        out_file.write(\"\\n\")\n",
    "        \n",
    "        # Clean up\n",
    "        out_file.write(\"rm -r /tmp/ramarty/$barcode\\n\")\n",
    "        out_file.write(\"date\\n\")"
   ]
  },
  {
   "cell_type": "code",
   "execution_count": 59,
   "metadata": {},
   "outputs": [],
   "source": [
    "create_cluster_script_sliced(samples, barcodes, out_dirs, file_names)"
   ]
  },
  {
   "cell_type": "code",
   "execution_count": 15,
   "metadata": {
    "scrolled": true
   },
   "outputs": [
    {
     "data": {
      "text/plain": [
       "['TCGA-BP-4967',\n",
       " 'TCGA-TM-A84O',\n",
       " 'TCGA-BF-AAP2',\n",
       " 'TCGA-EJ-7794',\n",
       " 'TCGA-CV-A45Q',\n",
       " 'TCGA-DH-5140',\n",
       " 'TCGA-22-5479',\n",
       " 'TCGA-DU-7306',\n",
       " 'TCGA-HC-7078',\n",
       " 'TCGA-EJ-8474']"
      ]
     },
     "execution_count": 15,
     "metadata": {},
     "output_type": "execute_result"
    }
   ],
   "source": [
    "barcodes[:10]"
   ]
  },
  {
   "cell_type": "markdown",
   "metadata": {},
   "source": [
    "Pull out components"
   ]
  },
  {
   "cell_type": "code",
   "execution_count": 16,
   "metadata": {},
   "outputs": [],
   "source": [
    "def create_cluster_script_gather(barcodes, out_dirs):\n",
    "\n",
    "    new_script_file = '/cellar/users/ramarty/Projects/kir/KIR_development/data_gathering/tcga/gather_components.sh'\n",
    "    \n",
    "    with open(new_script_file, 'w') as out_file:\n",
    "        out_file.write(\"#! /bin/csh\\n\")\n",
    "        out_file.write(\"#$ -V\\n\")\n",
    "        out_file.write(\"#$ -S /bin/csh\\n\")\n",
    "        out_file.write(\"#$ -o /cellar/users/ramarty/Data/kir/sge-system_files\\n\")\n",
    "        out_file.write(\"#$ -e /cellar/users/ramarty/Data/kir/sge-system_files\\n\")\n",
    "        out_file.write(\"#$ -cwd\\n\")\n",
    "        out_file.write(\"#$ -t 1-{0}\\n\".format(len(barcodes)))\n",
    "        #out_file.write(\"#$ -t 1-2\\n\".format(len(barcodes)))\n",
    "        out_file.write(\"#$ -l h_vmem=2G\\n\")\n",
    "        out_file.write(\"#$ -tc 10\\n\")\n",
    "        out_file.write(\"#$ -pe smp 8\\n\")\n",
    "        out_file.write(\"#$ -l long\")\n",
    "        out_file.write(\"\\n\")\n",
    "\n",
    "        out_file.write(\"set barcodes=({0})\\n\".format(\" \".join(barcodes)))\n",
    "        out_file.write(\"set outs=({0})\\n\".format(\" \".join(out_dirs)))\n",
    "        out_file.write(\"\\n\")\n",
    "\n",
    "        out_file.write(\"set barcode=$barcodes[$SGE_TASK_ID]\\n\")\n",
    "        out_file.write(\"set out=$outs[$SGE_TASK_ID]\\n\")\n",
    "        out_file.write(\"\\n\")\n",
    "\n",
    "        out_file.write(\"date\\n\")\n",
    "        out_file.write(\"hostname\\n\")\n",
    "        out_file.write(\"\\n\")\n",
    "        \n",
    "        # Make directories\n",
    "        out_file.write(\"mkdir $out/features\\n\")\n",
    "        out_file.write(\"\\n\")\n",
    "        \n",
    "        # Strip reads from KIR bam --> fastq\n",
    "        out_file.write(\"python /cellar/users/ramarty/Projects/kir/KIR_development/data_gathering/bin/convert_to_fastq2.py \" + \\\n",
    "                       \"$out/KIR_and_unmapped.aligned.bam $out/KIR_sorted $out/KIR_dedup \" + \\\n",
    "                       \"$out/KIR_and_unmapped.aligned.fastq cellar\\n\")\n",
    "        out_file.write(\"echo Stripped reads.\\n\")\n",
    "        out_file.write(\"\\n\")\n",
    "        \n",
    "        # Collect components: $out = '/nrnb/users/ramarty/TCGA/exomes/{barcode}'        \n",
    "        out_file.write(\"python /cellar/users/ramarty/Projects/kir/KIR_development/data_gathering/bin/component_collection.py \" + \\\n",
    "                       \"$out/KIR_and_unmapped.aligned.fastq $out/features \" + \\\n",
    "                       \"/cellar/users/ramarty/Data/kir/kmers/kmer_groups/kir_four_random.txt \" + \\\n",
    "                       \"kir_four_random\\n\")\n",
    "        out_file.write(\"echo Components gathered - KIR.\\n\")\n",
    "        out_file.write(\"\\n\")\n",
    "        \n",
    "        # Clean up\n",
    "        out_file.write(\"rm $out/KIR_sorted\\n\")\n",
    "        out_file.write(\"rm $out/KIR_dedup\\n\")\n",
    "        out_file.write(\"rm $out/*fastq\\n\")\n",
    "        out_file.write(\"date\\n\")"
   ]
  },
  {
   "cell_type": "code",
   "execution_count": 17,
   "metadata": {},
   "outputs": [],
   "source": [
    "create_cluster_script_gather(barcodes, out_dirs)"
   ]
  },
  {
   "cell_type": "code",
   "execution_count": null,
   "metadata": {},
   "outputs": [],
   "source": []
  },
  {
   "cell_type": "markdown",
   "metadata": {},
   "source": [
    "# OLD\n",
    "Download, convert to fastq, collect components, run PING, run HLA-HD <br>\n",
    "Put the different results in different locations?? Might want to start fresh with barcodes"
   ]
  },
  {
   "cell_type": "code",
   "execution_count": 18,
   "metadata": {},
   "outputs": [],
   "source": [
    "def create_cluster_script_download(samples, barcodes, out_dirs, file_names):\n",
    "\n",
    "    new_script_file = '/cellar/users/ramarty/Projects/kir/KIR_development/data_gathering/tcga/exon_download.sh'\n",
    "\n",
    "    with open(new_script_file, 'w') as out_file:\n",
    "        out_file.write(\"#! /bin/csh\\n\")\n",
    "        out_file.write(\"#$ -V\\n\")\n",
    "        out_file.write(\"#$ -S /bin/csh\\n\")\n",
    "        out_file.write(\"#$ -o /cellar/users/ramarty/Data/kir/sge-system_files\\n\")\n",
    "        out_file.write(\"#$ -e /cellar/users/ramarty/Data/kir/sge-system_files\\n\")\n",
    "        out_file.write(\"#$ -cwd\\n\")\n",
    "        #out_file.write(\"#$ -t 1-{0}\\n\".format(len(samples)))\n",
    "        out_file.write(\"#$ -t 5-6\\n\".format(len(samples)))\n",
    "        out_file.write(\"#$ -l h_vmem=3G\\n\")\n",
    "        out_file.write(\"#$ -tc 20\\n\")\n",
    "        out_file.write(\"#$ -l long\")\n",
    "        out_file.write(\"\\n\")\n",
    "\n",
    "        out_file.write(\"set samples=({0})\\n\".format(\" \".join(samples)))\n",
    "        out_file.write(\"set barcodes=({0})\\n\".format(\" \".join(barcodes)))\n",
    "        out_file.write(\"set outs=({0})\\n\".format(\" \".join(out_dirs)))\n",
    "        out_file.write(\"set files=({0})\\n\".format(\" \".join(file_names)))\n",
    "        out_file.write(\"\\n\")\n",
    "\n",
    "        out_file.write(\"set sample=$samples[$SGE_TASK_ID]\\n\")\n",
    "        out_file.write(\"set barcode=$barcodes[$SGE_TASK_ID]\\n\")\n",
    "        out_file.write(\"set out=$outs[$SGE_TASK_ID]\\n\")\n",
    "        out_file.write(\"set file=$files[$SGE_TASK_ID]\\n\")\n",
    "\n",
    "        out_file.write(\"date\\n\")\n",
    "        out_file.write(\"hostname\\n\")\n",
    "        \n",
    "        # Make directory\n",
    "        out_file.write(\"mkdir $out\\n\")\n",
    "        out_file.write(\"mkdir $out/features\\n\")\n",
    "        out_file.write(\"mkdir /tmp/ramarty\\n\")\n",
    "        out_file.write(\"mkdir /tmp/ramarty/$barcode\\n\")\n",
    "        \n",
    "        # Download and process\n",
    "        out_file.write(\"bash /cellar/users/ramarty/tokens/GDC.exome.sh $sample /tmp/ramarty/$barcode\\n\")\n",
    "                      # \"$sample $out/full_exome.bam\\n\")\n",
    "        out_file.write(\"echo Bam downloaded.\\n\")\n",
    "        \n",
    "        # Strip fastq \n",
    "        out_file.write(\"python /cellar/users/ramarty/Projects/kir/KIR_development/data_gathering/bin/convert_to_fastq2.py \" + \\\n",
    "                       \"/tmp/ramarty/$barcode/$sample/$file /tmp/ramarty/$barcode/$sample/full_exome_sorted \" + \\\n",
    "                       \"/tmp/ramarty/$barcode/full_exome_1.fastq /tmp/ramarty/$barcode/full_exome_2.fastq cellar\\n\")\n",
    "        out_file.write(\"echo Fastq stripped.\\n\")\n",
    "        \n",
    "        # Combine pairs\n",
    "        out_file.write(\"cat /tmp/ramarty/$barcode/full_exome_1.fastq /tmp/ramarty/$barcode/full_exome_2.fastq \" + \\\n",
    "                       \"> /tmp/ramarty/$barcode/full_exome.fastq\\n\")\n",
    "        out_file.write(\"echo Fastq combined.\\n\")\n",
    "        \n",
    "        # Map to reference\n",
    "        out_file.write(\"python /cellar/users/ramarty/Projects/kir/KIR_development/data_gathering/bin/map_to_reference.py \" + \\\n",
    "                       \"/tmp/ramarty/$barcode/full_exome.fastq $out/full_exome_kir.bam \" + \\\n",
    "                       \"/cellar/users/ramarty/Data/kir/ref/all_alleles_and_random cellar\\n\")\n",
    "        out_file.write(\"echo Mapped to KIR.\\n\")\n",
    "        \n",
    "        # Clean up\n",
    "        out_file.write(\"rm -r /tmp/ramarty/$barcode\\n\")\n",
    "        out_file.write(\"date\\n\")"
   ]
  },
  {
   "cell_type": "code",
   "execution_count": 19,
   "metadata": {},
   "outputs": [],
   "source": [
    "create_cluster_script_download(samples, barcodes, out_dirs, file_names)"
   ]
  },
  {
   "cell_type": "markdown",
   "metadata": {},
   "source": [
    "Data pull"
   ]
  },
  {
   "cell_type": "code",
   "execution_count": null,
   "metadata": {
    "collapsed": true
   },
   "outputs": [],
   "source": []
  },
  {
   "cell_type": "code",
   "execution_count": null,
   "metadata": {
    "collapsed": true
   },
   "outputs": [],
   "source": []
  },
  {
   "cell_type": "code",
   "execution_count": null,
   "metadata": {
    "collapsed": true
   },
   "outputs": [],
   "source": []
  },
  {
   "cell_type": "code",
   "execution_count": null,
   "metadata": {
    "collapsed": true
   },
   "outputs": [],
   "source": []
  },
  {
   "cell_type": "code",
   "execution_count": null,
   "metadata": {
    "collapsed": true
   },
   "outputs": [],
   "source": [
    "        # Run PING\n",
    "        #out_file.write(\"cd /nrnb/users/ramarty/programs/PING\\n\")\n",
    "        #out_file.write(\"Rscript --vanilla /cellar/users/ramarty/Projects/kir/KIR_development/data_gathering/bin/runPING_extractor.R $out/ full_exome_1.fastq full_exome_2.fastq $out/PING_sequences/ 4\\n\")\n",
    "        #out_file.write(\"Rscript --vanilla /cellar/users/ramarty/Projects/kir/KIR_development/data_gathering/bin/runPING_gc_caller.R $out/PING_sequences/  $out/PING/ 40000\\n\")\n",
    "        #out_file.write(\"echo PING completed.\\n\")\n",
    "        #out_file.write(\"date\\n\")"
   ]
  },
  {
   "cell_type": "markdown",
   "metadata": {},
   "source": [
    "Restart those that failed"
   ]
  },
  {
   "cell_type": "code",
   "execution_count": 79,
   "metadata": {
    "collapsed": true
   },
   "outputs": [],
   "source": [
    "job_id = '290648'"
   ]
  },
  {
   "cell_type": "code",
   "execution_count": 80,
   "metadata": {
    "collapsed": true
   },
   "outputs": [],
   "source": [
    "all_error_files = os.listdir('/cellar/users/ramarty/Data/kir/sge-system_files/')\n",
    "relevant_error_files = [x for x in all_error_files if 'exon_download.sh.e{0}'.format(job_id) in x]"
   ]
  },
  {
   "cell_type": "code",
   "execution_count": 81,
   "metadata": {},
   "outputs": [
    {
     "data": {
      "text/plain": [
       "205"
      ]
     },
     "execution_count": 81,
     "metadata": {},
     "output_type": "execute_result"
    }
   ],
   "source": [
    "len(relevant_error_files)"
   ]
  },
  {
   "cell_type": "code",
   "execution_count": 82,
   "metadata": {},
   "outputs": [
    {
     "name": "stdout",
     "output_type": "stream",
     "text": [
      "exon_download.sh.e290648.204\n",
      "exon_download.sh.e290648.203\n",
      "exon_download.sh.e290648.202\n",
      "exon_download.sh.e290648.205\n"
     ]
    }
   ],
   "source": [
    "jobs_to_restart = []\n",
    "for f in relevant_error_files:\n",
    "    lines = open('/cellar/users/ramarty/Data/kir/sge-system_files/' + f).readlines()\n",
    "    try:\n",
    "        if 'transfer closed' in lines[-1]:\n",
    "            # minus one to reflect the position in the original list\n",
    "            jobs_to_restart.append(int(f.split('.')[-1]) - 1)\n",
    "    except:\n",
    "        print f"
   ]
  },
  {
   "cell_type": "code",
   "execution_count": 83,
   "metadata": {
    "collapsed": true
   },
   "outputs": [],
   "source": [
    "jobs_to_restart = sort(jobs_to_restart)"
   ]
  },
  {
   "cell_type": "code",
   "execution_count": 84,
   "metadata": {},
   "outputs": [
    {
     "data": {
      "text/plain": [
       "19"
      ]
     },
     "execution_count": 84,
     "metadata": {},
     "output_type": "execute_result"
    }
   ],
   "source": [
    "len(jobs_to_restart)"
   ]
  },
  {
   "cell_type": "code",
   "execution_count": 69,
   "metadata": {
    "collapsed": true
   },
   "outputs": [],
   "source": [
    "def create_cluster_script_download_restart(samples, barcodes, out_dirs):\n",
    "\n",
    "    new_script_file = '/cellar/users/ramarty/Projects/kir/KIR_development/data_gathering/tcga/exon_download.rerun.sh'\n",
    "\n",
    "    with open(new_script_file, 'w') as out_file:\n",
    "        out_file.write(\"#! /bin/csh\\n\")\n",
    "        out_file.write(\"#$ -V\\n\")\n",
    "        out_file.write(\"#$ -S /bin/csh\\n\")\n",
    "        out_file.write(\"#$ -o /cellar/users/ramarty/Data/kir/sge-system_files\\n\")\n",
    "        out_file.write(\"#$ -e /cellar/users/ramarty/Data/kir/sge-system_files\\n\")\n",
    "        out_file.write(\"#$ -cwd\\n\")\n",
    "        #out_file.write(\"#$ -t 1-{0}\\n\".format(len(samples)))\n",
    "        out_file.write(\"#$ -t 1-{0}\\n\".format(len(samples)))\n",
    "        out_file.write(\"#$ -l h_vmem=1G\\n\")\n",
    "        out_file.write(\"#$ -tc 100\\n\")\n",
    "        out_file.write(\"#$ -l long\")\n",
    "        out_file.write(\"\\n\")\n",
    "\n",
    "        out_file.write(\"set samples=({0})\\n\".format(\" \".join(samples)))\n",
    "        out_file.write(\"set barcodes=({0})\\n\".format(\" \".join(barcodes)))\n",
    "        out_file.write(\"set outs=({0})\\n\".format(\" \".join(out_dirs)))\n",
    "        out_file.write(\"\\n\")\n",
    "\n",
    "        out_file.write(\"set sample=$samples[$SGE_TASK_ID]\\n\")\n",
    "        out_file.write(\"set barcode=$barcodes[$SGE_TASK_ID]\\n\")\n",
    "        out_file.write(\"set out=$outs[$SGE_TASK_ID]\\n\")\n",
    "        out_file.write(\"\\n\")\n",
    "\n",
    "        out_file.write(\"date\\n\")\n",
    "        out_file.write(\"hostname\\n\")\n",
    "        \n",
    "        # Make directory\n",
    "        out_file.write(\"mkdir $out\\n\")\n",
    "        \n",
    "        # Download and process\n",
    "        out_file.write(\"bash /cellar/users/ramarty/Projects/kir/KIR_development/data_gathering/bin/GDC.exome.sh $sample $out/full_exome.bam\\n\")\n",
    "        out_file.write(\"python /cellar/users/ramarty/Projects/kir/KIR_development/data_gathering/bin/convert_to_fastq.py $out/full_exome.bam $out/full_exome.fastq cellar\\n\")\n",
    "        out_file.write(\"python /cellar/users/ramarty/Projects/kir/KIR_development/data_gathering/bin/convert_to_fastq2.py $out/full_exome.bam $out/full_exome_1.fastq $out/full_exome_1.fastq cellar\\n\")\n",
    "        \n",
    "        out_file.write(\"date\\n\")"
   ]
  },
  {
   "cell_type": "code",
   "execution_count": 70,
   "metadata": {},
   "outputs": [],
   "source": [
    "create_cluster_script_download_restart([normal_samples[i] for i in jobs_to_restart], [normal_barcodes[i] for i in jobs_to_restart], [out_dirs[i] for i in jobs_to_restart])"
   ]
  },
  {
   "cell_type": "code",
   "execution_count": null,
   "metadata": {
    "collapsed": true
   },
   "outputs": [],
   "source": []
  },
  {
   "cell_type": "code",
   "execution_count": null,
   "metadata": {
    "collapsed": true
   },
   "outputs": [],
   "source": []
  }
 ],
 "metadata": {
  "kernelspec": {
   "display_name": "Python 3",
   "language": "python",
   "name": "python3"
  },
  "language_info": {
   "codemirror_mode": {
    "name": "ipython",
    "version": 3
   },
   "file_extension": ".py",
   "mimetype": "text/x-python",
   "name": "python",
   "nbconvert_exporter": "python",
   "pygments_lexer": "ipython3",
   "version": "3.7.3"
  }
 },
 "nbformat": 4,
 "nbformat_minor": 1
}
