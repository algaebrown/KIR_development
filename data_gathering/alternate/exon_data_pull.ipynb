{
 "cells": [
  {
   "cell_type": "code",
   "execution_count": 17,
   "metadata": {
    "scrolled": false
   },
   "outputs": [
    {
     "name": "stdout",
     "output_type": "stream",
     "text": [
      "Populating the interactive namespace from numpy and matplotlib\n",
      "Populating the interactive namespace from numpy and matplotlib\n"
     ]
    },
    {
     "name": "stderr",
     "output_type": "stream",
     "text": [
      "WARNING: pylab import has clobbered these variables: ['sample']\n",
      "`%matplotlib` prevents importing * from pylab and numpy\n"
     ]
    }
   ],
   "source": [
    "import io\n",
    "from IPython.nbformat import current\n",
    "def execute_notebook(nbfile):\n",
    "    with io.open(nbfile) as f:\n",
    "        nb = current.read(f, 'json')\n",
    "    ip = get_ipython()\n",
    "    for cell in nb.worksheets[0].cells:\n",
    "        if cell.cell_type != 'code':\n",
    "            continue\n",
    "        ip.run_cell(cell.input)\n",
    "        \n",
    "# import modules\n",
    "execute_notebook(\"/cellar/users/ramarty/Projects/kir/KIR_development/bin/imports.ipynb\")\n",
    "\n",
    "# import patient sample(db_gap, sra) and k-mer files\n",
    "execute_notebook(\"/cellar/users/ramarty/Projects/kir/KIR_development/data_gathering/alternate/sample_mapping.ipynb\")"
   ]
  },
  {
   "cell_type": "markdown",
   "metadata": {},
   "source": [
    "###Gathering data from non-cancer, dbgap populations"
   ]
  },
  {
   "cell_type": "code",
   "execution_count": 18,
   "metadata": {
    "scrolled": true
   },
   "outputs": [
    {
     "data": {
      "text/plain": [
       "10"
      ]
     },
     "execution_count": 18,
     "metadata": {},
     "output_type": "execute_result"
    }
   ],
   "source": [
    "len(population_dictionary)"
   ]
  },
  {
   "cell_type": "code",
   "execution_count": 19,
   "metadata": {},
   "outputs": [
    {
     "data": {
      "text/plain": [
       "['2017_dbGap_phs000254.v2.p1_NHLBILungCF',\n",
       " '2017_dbGap_phs000632.v1.p1_NHLBIFamHC',\n",
       " '2017_dbGap_phs000362.v1.p1_NHLBIFamFAF',\n",
       " '2017_dbGap_phs000209.v13.p3_MESA',\n",
       " '2017_dbGap_phs000290.v1.p1_NHLBILungPAH',\n",
       " '2017_dbGap_phs000179.v5.p2_GenEpidCOPD',\n",
       " '2017_dbGap_phs000631.v1.p1_ARDSnet',\n",
       " '2017_dbGap_phs000291.v2.p1_NHLBILungCOPD',\n",
       " '2017_dbGap_phs000422.v1.p1_NHLBILungA',\n",
       " '2017_dbGap_phs000518.v1.p1_NHLBIFamIB']"
      ]
     },
     "execution_count": 19,
     "metadata": {},
     "output_type": "execute_result"
    }
   ],
   "source": [
    "population_dictionary.keys() # patient samples paired with their .sra"
   ]
  },
  {
   "cell_type": "code",
   "execution_count": 20,
   "metadata": {},
   "outputs": [],
   "source": [
    "all_sra_files, all_fastq_files, all_out_dirs = [], [], []\n",
    "populations, samples = [], []\n",
    "for i, population in enumerate(population_dictionary.keys()):\n",
    "    # adding an s to sample_list\n",
    "    \n",
    "    sra_files = ['{0}{1}/sra/{2}'.format(base, population, sample) for sample in population_dictionary[population]]\n",
    "    fastq_files = ['{0}{1}/sra/{2}.fastq'.format(base, population, sample.split('.')[0]) for sample in population_dictionary[population]]\n",
    "    out_dirs = ['c{1}/{2}/'.format(base, population, sample.split('.')[0]) for sample in population_dictionary[population]]\n",
    "    \n",
    "    #all_sra_files.extend(sra_files)\n",
    "    #all_fastq_files.extend(fastq_files)\n",
    "    #all_out_dirs.extend(out_dirs)\n",
    "    populations.extend([population for sample in population_dictionary[population]])\n",
    "    samples.extend([sample.split('.')[0] for sample in population_dictionary[population]])"
   ]
  },
  {
   "cell_type": "code",
   "execution_count": 21,
   "metadata": {},
   "outputs": [
    {
     "name": "stdout",
     "output_type": "stream",
     "text": [
      "2017_dbGap_phs000254.v2.p1_NHLBILungCF\n",
      "SRR201049\n",
      "1758 1758\n"
     ]
    }
   ],
   "source": [
    "print populations[0] #dbgap\n",
    "print samples[0] # .sra\n",
    "print len(populations), len(samples)"
   ]
  },
  {
   "cell_type": "code",
   "execution_count": 22,
   "metadata": {},
   "outputs": [
    {
     "data": {
      "text/plain": [
       "['SRR201049',\n",
       " 'SRR201052',\n",
       " 'SRR201055',\n",
       " 'SRR201058',\n",
       " 'SRR201061',\n",
       " 'SRR201063',\n",
       " 'SRR201067',\n",
       " 'SRR201071',\n",
       " 'SRR201073',\n",
       " 'SRR201078']"
      ]
     },
     "execution_count": 22,
     "metadata": {},
     "output_type": "execute_result"
    }
   ],
   "source": [
    "samples[:10]"
   ]
  },
  {
   "cell_type": "code",
   "execution_count": 15,
   "metadata": {
    "collapsed": true
   },
   "outputs": [],
   "source": [
    "def create_cluster_script_type(populations, samples): # the shell script is generated\n",
    "    '''\n",
    "    create shell script to for specific patient polutlation from db_gap and their .sra\n",
    "    make them into a single fastq file\n",
    "    '''\n",
    "\n",
    "    new_script_file = '/cellar/users/ramarty/Projects/kir/KIR_development/data_gathering/alternate/alt_to_fastq.sh'\n",
    "\n",
    "    with open(new_script_file, 'w') as out_file:\n",
    "        out_file.write(\"#! /bin/csh\\n\")\n",
    "        out_file.write(\"#$ -V\\n\")\n",
    "        out_file.write(\"#$ -S /bin/csh\\n\")\n",
    "        out_file.write(\"#$ -o /cellar/users/ramarty/Data/kir/sge-system_files\\n\")\n",
    "        out_file.write(\"#$ -e /cellar/users/ramarty/Data/kir/sge-system_files\\n\")\n",
    "        out_file.write(\"#$ -cwd\\n\")\n",
    "        out_file.write(\"#$ -t 501-{0}\\n\".format(len(samples)))\n",
    "        #out_file.write(\"#$ -t 501-1\\n\".format(len(samples)))\n",
    "        out_file.write(\"#$ -l h_vmem=2G\\n\")\n",
    "        out_file.write(\"#$ -tc 50\\n\")\n",
    "        out_file.write(\"#$ -l long\")\n",
    "        out_file.write(\"\\n\")\n",
    "\n",
    "        out_file.write(\"set populations=({0})\\n\".format(\" \".join(populations)))\n",
    "        out_file.write(\"set samples=({0})\\n\".format(\" \".join(samples)))\n",
    "        out_file.write(\"\\n\")\n",
    "\n",
    "        out_file.write(\"set population=$populations[$SGE_TASK_ID]\\n\")\n",
    "        out_file.write(\"set sample=$samples[$SGE_TASK_ID]\\n\")\n",
    "        out_file.write(\"\\n\")\n",
    "\n",
    "        out_file.write(\"date\\n\")\n",
    "        out_file.write(\"hostname\\n\")\n",
    "        \n",
    "        # Make new directories\n",
    "        out_file.write(\"mkdir /nrnb/users/ramarty/alternate_pops/$population\\n\")\n",
    "        out_file.write(\"mkdir /nrnb/users/ramarty/alternate_pops/$population/$sample\\n\")\n",
    "        # others??\n",
    "        \n",
    "        # Move to working directory\n",
    "        out_file.write(\"cd /nrnb/data/controlled/2017_dbGap_phs000179.v5.p2_GenEpidCOPD\\n\")\n",
    "        \n",
    "        # Get fastq from SRA and move to respective folder\n",
    "        out_file.write(\"echo /cellar/users/ramarty/programs/sratoolkit.2.8.2-1-ubuntu64/bin/fastq-dump /nrnb/data/controlled/$population/sra/$sample\\n\")\n",
    "        out_file.write(\"/cellar/users/ramarty/programs/sratoolkit.2.8.2-1-ubuntu64/bin/fastq-dump --split-files /nrnb/data/controlled/$population/sra/$sample.sra\\n\")\n",
    "        out_file.write(\"mv /nrnb/data/controlled/2017_dbGap_phs000179.v5.p2_GenEpidCOPD/$sample* /nrnb/data/controlled/$population/.\\n\")\n",
    "        out_file.write(\"echo Fastqs extracted.\\n\")\n",
    "        out_file.write(\"date\\n\")\n",
    "                \n",
    "        # concat into a single fastq file\n",
    "        out_file.write(\"cat /nrnb/data/controlled/$population/$sample\\_1.fastq /nrnb/data/controlled/$population/$sample\\_2.fastq > /nrnb/data/controlled/$population/$sample.fastq\\n\")\n",
    "        out_file.write(\"echo Fastqs merged.\\n\")\n",
    "        out_file.write(\"date\\n\")"
   ]
  },
  {
   "cell_type": "code",
   "execution_count": 16,
   "metadata": {},
   "outputs": [],
   "source": [
    "create_cluster_script_type(populations, samples) # "
   ]
  },
  {
   "cell_type": "code",
   "execution_count": 27,
   "metadata": {
    "collapsed": true
   },
   "outputs": [],
   "source": [
    "def create_cluster_script_gather(populations, samples):\n",
    "    '''\n",
    "    from fastq mapping to KIR, PING, HLA-HD\n",
    "    '''\n",
    "\n",
    "    new_script_file = '/cellar/users/ramarty/Projects/kir/KIR_development/data_gathering/alternate/alt_data_pull.sh'\n",
    "\n",
    "    with open(new_script_file, 'w') as out_file:\n",
    "        out_file.write(\"#! /bin/csh\\n\")\n",
    "        out_file.write(\"#$ -V\\n\")\n",
    "        out_file.write(\"#$ -S /bin/csh\\n\")\n",
    "        out_file.write(\"#$ -o /cellar/users/ramarty/Data/kir/sge-system_files\\n\")\n",
    "        out_file.write(\"#$ -e /cellar/users/ramarty/Data/kir/sge-system_files\\n\")\n",
    "        out_file.write(\"#$ -cwd\\n\")\n",
    "        out_file.write(\"#$ -t 501-{0}\\n\".format(len(samples)))\n",
    "        #out_file.write(\"#$ -t 501-500\\n\".format(len(samples)))\n",
    "        out_file.write(\"#$ -l h_vmem=30G\\n\") ## what does the sizing need to be?? \n",
    "        out_file.write(\"#$ -tc 20\\n\")\n",
    "        out_file.write(\"#$ -l long\")\n",
    "        out_file.write(\"\\n\")\n",
    "\n",
    "        out_file.write(\"set populations=({0})\\n\".format(\" \".join(populations)))\n",
    "        out_file.write(\"set samples=({0})\\n\".format(\" \".join(samples)))\n",
    "        out_file.write(\"\\n\")\n",
    "\n",
    "        out_file.write(\"set population=$populations[$SGE_TASK_ID]\\n\")\n",
    "        out_file.write(\"set sample=$samples[$SGE_TASK_ID]\\n\")\n",
    "        out_file.write(\"\\n\")\n",
    "\n",
    "        out_file.write(\"date\\n\")\n",
    "        out_file.write(\"hostname\\n\")\n",
    "        \n",
    "        # Make new directories\n",
    "        out_file.write(\"mkdir /nrnb/users/ramarty/alternate_pops/$population\\n\")\n",
    "        out_file.write(\"mkdir /nrnb/users/ramarty/alternate_pops/$population/$sample\\n\")\n",
    "        out_file.write(\"mkdir /nrnb/users/ramarty/alternate_pops/$population/$sample/features\\n\")\n",
    "        out_file.write(\"mkdir /nrnb/users/ramarty/alternate_pops/$population/$sample/hlaHD\\n\")\n",
    "        \n",
    "        # Map to kir reference, strip to paired fastq, combine to single\n",
    "        out_file.write(\"python /cellar/users/ramarty/Projects/kir/KIR_development/data_gathering/bin/map_to_reference.py /nrnb/data/controlled/$population/$sample.fastq /nrnb/data/controlled/$population/$sample\\_kir.bam /cellar/users/ramarty/Data/kir/ref/all_alleles cellar\\n\")\n",
    "        out_file.write(\"echo Mapped to KIR.\\n\")\n",
    "        out_file.write(\"python /cellar/users/ramarty/Projects/kir/KIR_development/data_gathering/bin/convert_to_fastq.py /nrnb/data/controlled/$population/$sample\\_kir.bam /nrnb/data/controlled/$population/$sample\\_kir.fastq\\n\")\n",
    "        out_file.write(\"echo Stripped reads.\\n\")   \n",
    "        \n",
    "        # Gather components from KIR and whole exome\n",
    "        out_file.write(\"python /cellar/users/ramarty/Projects/kir/KIR_development/data_gathering/bin/component_collection.py /nrnb/data/controlled/$population/$sample\\_kir.fastq /nrnb/users/ramarty/alternate_pops/$population/$sample/features/ /cellar/users/ramarty/Data/kir/kmers/kmer_groups/component_and_four_mers.txt components_four_kir\\n\")\n",
    "        out_file.write(\"echo Components gathered - KIR.\\n\")\n",
    "        out_file.write(\"python /cellar/users/ramarty/Projects/kir/KIR_development/data_gathering/bin/component_collection.py /nrnb/data/controlled/$population/$sample.fastq /nrnb/users/ramarty/alternate_pops/$population/$sample/features/ /cellar/users/ramarty/Data/kir/kmers/kmer_groups/component_and_four_mers.txt components_four\\n\")\n",
    "        out_file.write(\"echo Components gathered - whole exome.\\n\")\n",
    "        \n",
    "        # Run PING\n",
    "        #out_file.write(\"cd /nrnb/users/ramarty/programs/PING\\n\") \n",
    "        #out_file.write(\"Rscript --vanilla /cellar/users/ramarty/Projects/kir/KIR_development/data_gathering/bin/runPING_extractor.R /nrnb/data/controlled/$population/ $sample\\_1.fastq $sample\\_2.fastq /nrnb/users/ramarty/alternate_pops/$population/$sample/PING_sequences/ 4\\n\")\n",
    "        #out_file.write(\"echo PING step 1 completed.\\n\")\n",
    "        #out_file.write(\"Rscript --vanilla /cellar/users/ramarty/Projects/kir/KIR_development/data_gathering/bin/runPING_gc_caller.R /nrnb/users/ramarty/alternate_pops/$population/$sample/PING_sequences/ /nrnb/users/ramarty/alternate_pops/$population/$sample/PING/ 40000\\n\")\n",
    "        #out_file.write(\"echo PING step 2 completed.\\n\")\n",
    "        \n",
    "        # Run HLA-HD\n",
    "        out_file.write(\"hlahd.sh -t 8 -m 70 -f ~/programs/hlahd.1.0.0/freq_data/ /nrnb/data/controlled/$population/$sample\\_1.fastq /nrnb/data/controlled/$population/$sample\\_2.fastq ~/programs/hlahd.1.0.0/HLA_gene.split.txt ~/programs/hlahd.1.0.0/dictionary/ $sample /nrnb/users/ramarty/alternate_pops/$population/$sample/hlaHD\\n\")\n",
    "        out_file.write(\"echo HLA-HD completed.\\n\")\n",
    "        \n",
    "        # Remove fastq files\n",
    "        out_file.write(\"rm /nrnb/data/controlled/$population/$sample*.fastq\\n\")\n",
    "        out_file.write(\"rm /nrnb/data/controlled/$population/$sample*.bam\\n\")\n",
    "\n",
    "        out_file.write(\"date\\n\")"
   ]
  },
  {
   "cell_type": "code",
   "execution_count": 28,
   "metadata": {},
   "outputs": [],
   "source": [
    "create_cluster_script_gather(populations, samples)"
   ]
  },
  {
   "cell_type": "code",
   "execution_count": null,
   "metadata": {
    "collapsed": true
   },
   "outputs": [],
   "source": []
  },
  {
   "cell_type": "code",
   "execution_count": null,
   "metadata": {
    "collapsed": true
   },
   "outputs": [],
   "source": [
    "'''\n",
    "# PING error message\n",
    "Warning messages:\n",
    "1: In file.remove(paste0(sequence, \".temp\")) :\n",
    "  cannot remove file '.temp', reason 'No such file or directory'\n",
    "2: In file.remove(paste0(\"dump.me\")) :\n",
    "  cannot remove file 'dump.me', reason 'No such file or directory'\n",
    "/cellar/users/ramarty/anaconda/lib/R/bin/R: 12: [: Linux: unexpected operator\n",
    "Error in build_mira_counts(sequence_list) : \n",
    "  Program stopped, please check MIRA_log.txt for more information\n",
    "Calls: ping_gc_caller -> build_mira_counts\n",
    "Execution halted\n",
    "'''"
   ]
  },
  {
   "cell_type": "code",
   "execution_count": null,
   "metadata": {
    "collapsed": true
   },
   "outputs": [],
   "source": []
  }
 ],
 "metadata": {
  "kernelspec": {
   "display_name": "Python 3",
   "language": "python",
   "name": "python3"
  },
  "language_info": {
   "codemirror_mode": {
    "name": "ipython",
    "version": 3
   },
   "file_extension": ".py",
   "mimetype": "text/x-python",
   "name": "python",
   "nbconvert_exporter": "python",
   "pygments_lexer": "ipython3",
   "version": "3.7.3"
  }
 },
 "nbformat": 4,
 "nbformat_minor": 1
}
