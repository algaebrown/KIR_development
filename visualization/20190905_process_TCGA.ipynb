{
 "cells": [
  {
   "cell_type": "code",
   "execution_count": 2,
   "metadata": {},
   "outputs": [],
   "source": [
    "import sys\n",
    "sys.path.append('/cellar/users/hsher/KIR_development')\n",
    "\n",
    "from normalization.coverage import four_mer, four_mer_coverage\n",
    "four_mers = four_mer()\n",
    "\n",
    "import pandas as pd\n",
    "# select only the qualified k-mers\n",
    "from normalization.kmer_selection import select_qualified_kmer\n",
    "kmer_df = pd.read_csv('~/Data/kmer_df', header = 0)\n",
    "kmer_df = kmer_df.loc[kmer_df['length'] == 20]\n",
    "selected_kmer = select_qualified_kmer(kmer_df['kmer'])\n",
    "kmer_df = kmer_df.loc[kmer_df['kmer'].isin(selected_kmer)]\n",
    "\n",
    "gene_kmer_count = kmer_df.groupby(by = 'gene').count()['kmer']"
   ]
  },
  {
   "cell_type": "code",
   "execution_count": 3,
   "metadata": {},
   "outputs": [],
   "source": [
    "df = pd.read_csv('/cellar/users/ramarty/Data/kir/components/tcga/kir_four_random_counts.csv',  header = 0, index_col = 0)"
   ]
  },
  {
   "cell_type": "code",
   "execution_count": 4,
   "metadata": {},
   "outputs": [
    {
     "data": {
      "text/plain": [
       "0"
      ]
     },
     "execution_count": 4,
     "metadata": {},
     "output_type": "execute_result"
    }
   ],
   "source": [
    "len(set(selected_kmer)-(set(df.columns)))"
   ]
  },
  {
   "cell_type": "code",
   "execution_count": 5,
   "metadata": {},
   "outputs": [
    {
     "data": {
      "text/plain": [
       "0"
      ]
     },
     "execution_count": 5,
     "metadata": {},
     "output_type": "execute_result"
    }
   ],
   "source": [
    "len(set(four_mers)-(set(df.columns)))"
   ]
  },
  {
   "cell_type": "code",
   "execution_count": 6,
   "metadata": {},
   "outputs": [],
   "source": [
    "df[selected_kmer.tolist()+four_mers].to_csv('~/Data/kmers/TCGA_kmers.csv')"
   ]
  },
  {
   "cell_type": "code",
   "execution_count": null,
   "metadata": {},
   "outputs": [],
   "source": []
  }
 ],
 "metadata": {
  "kernelspec": {
   "display_name": "Python 3",
   "language": "python",
   "name": "python3"
  },
  "language_info": {
   "codemirror_mode": {
    "name": "ipython",
    "version": 3
   },
   "file_extension": ".py",
   "mimetype": "text/x-python",
   "name": "python",
   "nbconvert_exporter": "python",
   "pygments_lexer": "ipython3",
   "version": "3.7.3"
  }
 },
 "nbformat": 4,
 "nbformat_minor": 2
}
