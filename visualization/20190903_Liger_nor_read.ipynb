{
 "cells": [
  {
   "cell_type": "code",
   "execution_count": 4,
   "metadata": {},
   "outputs": [],
   "source": [
    "all_data = read.table('/cellar/users/hsher/Data/nor_read.csv', sep = ',', row.names = 1, header = TRUE, nrows = 1000)\n"
   ]
  },
  {
   "cell_type": "code",
   "execution_count": 5,
   "metadata": {},
   "outputs": [],
   "source": [
    "capture_kits <- read.table('/cellar/users/ramarty/Data/kir/ref/sample.capture.kit', sep = '\\t', header = T)"
   ]
  },
  {
   "cell_type": "code",
   "execution_count": 6,
   "metadata": {},
   "outputs": [],
   "source": [
    "# select only the ones that are in the loaded data\n",
    "capture_kits <- subset(capture_kits, capture_kits$SHORT_ID %in% row.names(all_data))"
   ]
  },
  {
   "cell_type": "code",
   "execution_count": 7,
   "metadata": {},
   "outputs": [
    {
     "data": {
      "text/html": [
       "<ol class=list-inline>\n",
       "\t<li>Agilent Custom</li>\n",
       "\t<li>Sureselect.38</li>\n",
       "\t<li>Nimblegen HGSC</li>\n",
       "\t<li>Nimblegen.SQEZ2</li>\n",
       "\t<li>Nimblegen hg18</li>\n",
       "\t<li>Nimblegen.SQEZ3</li>\n",
       "</ol>\n",
       "\n",
       "<details>\n",
       "\t<summary style=display:list-item;cursor:pointer>\n",
       "\t\t<strong>Levels</strong>:\n",
       "\t</summary>\n",
       "\t<ol class=list-inline>\n",
       "\t\t<li>'Agilent Custom'</li>\n",
       "\t\t<li>'Nimblegen hg18'</li>\n",
       "\t\t<li>'Nimblegen HGSC'</li>\n",
       "\t\t<li>'Nimblegen.SQEZ2'</li>\n",
       "\t\t<li>'Nimblegen.SQEZ3'</li>\n",
       "\t\t<li>'Sureselect.38'</li>\n",
       "\t</ol>\n",
       "</details>"
      ],
      "text/latex": [
       "\\begin{enumerate*}\n",
       "\\item Agilent Custom\n",
       "\\item Sureselect.38\n",
       "\\item Nimblegen HGSC\n",
       "\\item Nimblegen.SQEZ2\n",
       "\\item Nimblegen hg18\n",
       "\\item Nimblegen.SQEZ3\n",
       "\\end{enumerate*}\n",
       "\n",
       "\\emph{Levels}: \\begin{enumerate*}\n",
       "\\item 'Agilent Custom'\n",
       "\\item 'Nimblegen hg18'\n",
       "\\item 'Nimblegen HGSC'\n",
       "\\item 'Nimblegen.SQEZ2'\n",
       "\\item 'Nimblegen.SQEZ3'\n",
       "\\item 'Sureselect.38'\n",
       "\\end{enumerate*}\n"
      ],
      "text/markdown": [
       "1. Agilent Custom\n",
       "2. Sureselect.38\n",
       "3. Nimblegen HGSC\n",
       "4. Nimblegen.SQEZ2\n",
       "5. Nimblegen hg18\n",
       "6. Nimblegen.SQEZ3\n",
       "\n",
       "\n",
       "\n",
       "**Levels**: 1. 'Agilent Custom'\n",
       "2. 'Nimblegen hg18'\n",
       "3. 'Nimblegen HGSC'\n",
       "4. 'Nimblegen.SQEZ2'\n",
       "5. 'Nimblegen.SQEZ3'\n",
       "6. 'Sureselect.38'\n",
       "\n",
       "\n"
      ],
      "text/plain": [
       "[1] Agilent Custom  Sureselect.38   Nimblegen HGSC  Nimblegen.SQEZ2\n",
       "[5] Nimblegen hg18  Nimblegen.SQEZ3\n",
       "6 Levels: Agilent Custom Nimblegen hg18 Nimblegen HGSC ... Sureselect.38"
      ]
     },
     "metadata": {},
     "output_type": "display_data"
    }
   ],
   "source": [
    "# group by capture kit\n",
    "unique(capture_kits$KIT)"
   ]
  },
  {
   "cell_type": "code",
   "execution_count": 8,
   "metadata": {},
   "outputs": [],
   "source": [
    "ag = subset(all_data, row.names(all_data) %in% capture_kits$SHORT_ID[capture_kits$KIT == 'Agilent Custom'])\n",
    "su = subset(all_data, row.names(all_data) %in% capture_kits$SHORT_ID[capture_kits$KIT == 'Sureselect.38'])\n",
    "nim1 = subset(all_data, row.names(all_data) %in% capture_kits$SHORT_ID[capture_kits$KIT == 'Nimblegen HGSC'])\n",
    "nim2 = subset(all_data, row.names(all_data) %in% capture_kits$SHORT_ID[capture_kits$KIT == 'Nimblegen.SQEZ2'])\n",
    "nim3 = subset(all_data, row.names(all_data) %in% capture_kits$SHORT_ID[capture_kits$KIT == 'Nimblegen hg18'])\n",
    "nim4 = subset(all_data, row.names(all_data) %in% capture_kits$SHORT_ID[capture_kits$KIT == 'Nimblegen.SQEZ3'])"
   ]
  },
  {
   "cell_type": "code",
   "execution_count": 9,
   "metadata": {},
   "outputs": [],
   "source": [
    "library(liger)\n"
   ]
  },
  {
   "cell_type": "code",
   "execution_count": 10,
   "metadata": {},
   "outputs": [],
   "source": [
    "sep_by_kit <- list(ag, su, nim1, nim2, nim3, nim4)"
   ]
  },
  {
   "cell_type": "code",
   "execution_count": 17,
   "metadata": {},
   "outputs": [
    {
     "ename": "ERROR",
     "evalue": "Error in selectGenes(sep_by_kit, var.thresh = c(0.3, 0.875), do.plot = F): could not find function \"selectGenes\"\n",
     "output_type": "error",
     "traceback": [
      "Error in selectGenes(sep_by_kit, var.thresh = c(0.3, 0.875), do.plot = F): could not find function \"selectGenes\"\nTraceback:\n"
     ]
    }
   ],
   "source": [
    "sep_by_kit <-- selectGenes(sep_by_kit, var.thresh = c(0.3, 0.875), do.plot = F)"
   ]
  },
  {
   "cell_type": "code",
   "execution_count": 23,
   "metadata": {},
   "outputs": [
    {
     "name": "stderr",
     "output_type": "stream",
     "text": [
      "Downloading GitHub repo MacoskoLab/liger@master\n"
     ]
    },
    {
     "ename": "ERROR",
     "evalue": "Error: Failed to install 'liger' from GitHub:\n  Could not find tools necessary to compile a package\nCall `pkgbuild::check_build_tools(debug = TRUE)` to diagnose the problem.\n",
     "output_type": "error",
     "traceback": [
      "Error: Failed to install 'liger' from GitHub:\n  Could not find tools necessary to compile a package\nCall `pkgbuild::check_build_tools(debug = TRUE)` to diagnose the problem.\nTraceback:\n",
      "1. install_github(\"MacoskoLab/liger\", depedencies = FALSE)",
      "2. install_remotes(remotes, auth_token = auth_token, host = host, \n .     dependencies = dependencies, upgrade = upgrade, force = force, \n .     quiet = quiet, build = build, build_opts = build_opts, build_manual = build_manual, \n .     build_vignettes = build_vignettes, repos = repos, type = type, \n .     ...)",
      "3. tryCatch(res[[i]] <- install_remote(remotes[[i]], ...), error = function(e) {\n .     stop(remote_install_error(remotes[[i]], e))\n . })",
      "4. tryCatchList(expr, classes, parentenv, handlers)",
      "5. tryCatchOne(expr, names, parentenv, handlers[[1L]])",
      "6. value[[3L]](cond)"
     ]
    }
   ],
   "source": [
    "library(devtools)\n",
    "install_github('MacoskoLab/liger', depedencies = FALSE)"
   ]
  },
  {
   "cell_type": "code",
   "execution_count": 18,
   "metadata": {},
   "outputs": [],
   "source": [
    ".libPaths('/home/hsher/liger/R')"
   ]
  },
  {
   "cell_type": "code",
   "execution_count": 24,
   "metadata": {},
   "outputs": [
    {
     "name": "stderr",
     "output_type": "stream",
     "text": [
      "Trying to compile a simple C file\n"
     ]
    },
    {
     "name": "stdout",
     "output_type": "stream",
     "text": [
      "Running /cellar/users/hsher/miniconda3/envs/r_env/lib/R/bin/R CMD SHLIB foo.c\n",
      "x86_64-conda_cos6-linux-gnu-cc -I\"/cellar/users/hsher/miniconda3/envs/r_env/lib/R/include\" -DNDEBUG   -DNDEBUG -D_FORTIFY_SOURCE=2 -O2  -I/cellar/users/hsher/miniconda3/envs/r_env/include -Wl,-rpath-link,/cellar/users/hsher/miniconda3/envs/r_env/lib  -fpic  -march=nocona -mtune=haswell -ftree-vectorize -fPIC -fstack-protector-strong -fno-plt -O2 -ffunction-sections -pipe -I/cellar/users/hsher/miniconda3/envs/r_env/include -fdebug-prefix-map=/home/conda/feedstock_root/build_artifacts/r-base_1566256856298/work=/usr/local/src/conda/r-base-3.6.1 -fdebug-prefix-map=/cellar/users/hsher/miniconda3/envs/r_env=/usr/local/src/conda-prefix  -c foo.c -o foo.o\n",
      "/bin/sh: 1: x86_64-conda_cos6-linux-gnu-cc: not found\n",
      "/cellar/users/hsher/miniconda3/envs/r_env/lib/R/etc/Makeconf:168: recipe for target 'foo.o' failed\n",
      "make: *** [foo.o] Error 127\n"
     ]
    },
    {
     "ename": "ERROR",
     "evalue": "Error: Could not find tools necessary to compile a package\nCall `pkgbuild::check_build_tools(debug = TRUE)` to diagnose the problem.\n",
     "output_type": "error",
     "traceback": [
      "Error: Could not find tools necessary to compile a package\nCall `pkgbuild::check_build_tools(debug = TRUE)` to diagnose the problem.\nTraceback:\n",
      "1. pkgbuild::check_build_tools(debug = TRUE)",
      "2. stop(\"Could not find tools necessary to compile a package\\n\", \n .     \"Call `pkgbuild::check_build_tools(debug = TRUE)` to diagnose the problem.\", \n .     call. = FALSE)"
     ]
    }
   ],
   "source": [
    "pkgbuild::check_build_tools(debug = TRUE)"
   ]
  },
  {
   "cell_type": "code",
   "execution_count": null,
   "metadata": {},
   "outputs": [],
   "source": []
  }
 ],
 "metadata": {
  "kernelspec": {
   "display_name": "R",
   "language": "R",
   "name": "ir"
  },
  "language_info": {
   "codemirror_mode": "r",
   "file_extension": ".r",
   "mimetype": "text/x-r-source",
   "name": "R",
   "pygments_lexer": "r",
   "version": "3.6.1"
  }
 },
 "nbformat": 4,
 "nbformat_minor": 2
}
