{
 "cells": [
  {
   "cell_type": "code",
   "execution_count": null,
   "metadata": {},
   "outputs": [],
   "source": [
    "# this is used to calculate coverage??\n",
    "df = pd.read_csv('/cellar/users/ramarty/Data/kir/components/alternate/components_four_counts.csv', index_col=0)\n",
    "df.head() # index = .sra name for dbGap samples. # columns don't contain random k-mer; about half of the kir_kmers; some ref_gene kmers"
   ]
  },
  {
   "cell_type": "code",
   "execution_count": null,
   "metadata": {},
   "outputs": [],
   "source": [
    "# they calculate coverage by summing up how many four mers they have\n",
    "%matplotlib inline\n",
    "for mer in four_mers:\n",
    "    df[[mer]].sum(axis=1).sort_values().plot() # every 4-mer has a line # has similar growth between samples?"
   ]
  },
  {
   "cell_type": "code",
   "execution_count": null,
   "metadata": {},
   "outputs": [],
   "source": [
    "ax = df.sum(axis=1).sort_values().hist(bins=50, color='grey') # how many k-mers each .sra have?\n",
    "ax.set_xlabel(\"No. k-mers\")\n",
    "ax.set_ylabel(\"No. samples\")"
   ]
  },
  {
   "cell_type": "code",
   "execution_count": null,
   "metadata": {},
   "outputs": [],
   "source": [
    "ax = df[four_mers].sum(axis=1).sort_values().hist(bins=50, color='grey') # how many 4-mers each .sra have?\n",
    "ax.set_xlabel(\"No. 4-mers\")\n",
    "ax.set_ylabel(\"No. samples\")"
   ]
  },
  {
   "cell_type": "code",
   "execution_count": null,
   "metadata": {},
   "outputs": [],
   "source": [
    "refs = {} # dictionary; key = gene name; values = k-mers # only 20-mers\n",
    "ref_genes = ['PVR', 'ZNF17', 'FUT3', 'JUND', 'RAX2', 'ATP1A3', 'NOTCH3'] #(NK, zinc finger, fucosyltransferase, trascription factor )\n",
    "for gene in ref_genes:\n",
    "    refs[gene] = [x.strip() for x in open('/cellar/users/ramarty/Data/kir/kmers/kmer_groups/{0}.20.txt'.format(gene))]"
   ]
  },
  {
   "cell_type": "code",
   "execution_count": null,
   "metadata": {},
   "outputs": [],
   "source": [
    "all_ref_kmers = []\n",
    "for ref_gene in refs:\n",
    "    all_ref_kmers = all_ref_kmers + refs[ref_gene]"
   ]
  },
  {
   "cell_type": "code",
   "execution_count": null,
   "metadata": {},
   "outputs": [],
   "source": [
    "import matplotlib.pyplot as plt\n",
    "each_ref_gene = []\n",
    "for ref_gene in refs:\n",
    "    r = df[refs[ref_gene]].sum(axis=1)\n",
    "    each_ref_gene.append(r)\n",
    "plt.boxplot(each_ref_gene, labels = refs.keys())\n",
    "plt.ylabel('No. 20-mer for reference gene per sample')"
   ]
  },
  {
   "cell_type": "code",
   "execution_count": null,
   "metadata": {},
   "outputs": [],
   "source": [
    "# presence of absence of these reference genes k-mers\n",
    "# corelate with 4-mer estimated coverage?\n",
    "\n",
    "four_mer_sum = df[four_mers].sum(axis=1)\n",
    "for ref_gene in refs:\n",
    "    r_sum = df[refs[ref_gene]].sum(axis = 1)\n",
    "    plt.scatter(x = four_mer_sum, y = r_sum, label =ref_gene, alpha = 0.3)\n",
    "    \n",
    "plt.legend()\n",
    "plt.xlabel('No. 4-mer per sample')\n",
    "plt.ylabel('No. 20-mer per sample for each reference gene')"
   ]
  },
  {
   "cell_type": "code",
   "execution_count": null,
   "metadata": {},
   "outputs": [],
   "source": [
    "each_a_gene = []\n",
    "for a_gene in anchor_genes:\n",
    "    r = df[kmers[20][a_gene]].sum(axis=1)\n",
    "    each_a_gene.append(r)\n",
    "plt.boxplot(each_a_gene, labels = anchor_genes)\n",
    "plt.ylabel('No. 20-mer for anchor gene per sample')"
   ]
  },
  {
   "cell_type": "code",
   "execution_count": null,
   "metadata": {},
   "outputs": [],
   "source": [
    "four_mer_sum = df[four_mers].sum(axis=1)\n",
    "for a_gene in anchor_genes:\n",
    "    r_sum = df[kmers[20][a_gene]].sum(axis = 1)\n",
    "    plt.scatter(x = four_mer_sum, y = r_sum, label =a_gene, alpha = 0.3)\n",
    "    \n",
    "plt.legend()\n",
    "plt.xlabel('No. 4-mer per sample')\n",
    "plt.ylabel('No. 20-mer per sample for each anchor gene')"
   ]
  }
 ],
 "metadata": {
  "kernelspec": {
   "display_name": "Python 3",
   "language": "python",
   "name": "python3"
  },
  "language_info": {
   "codemirror_mode": {
    "name": "ipython",
    "version": 3
   },
   "file_extension": ".py",
   "mimetype": "text/x-python",
   "name": "python",
   "nbconvert_exporter": "python",
   "pygments_lexer": "ipython3",
   "version": "3.7.3"
  }
 },
 "nbformat": 4,
 "nbformat_minor": 2
}
