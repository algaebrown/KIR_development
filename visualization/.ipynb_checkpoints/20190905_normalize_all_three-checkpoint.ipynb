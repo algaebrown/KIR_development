{
 "cells": [
  {
   "cell_type": "code",
   "execution_count": 2,
   "metadata": {},
   "outputs": [],
   "source": [
    "import sys\n",
    "sys.path.append('/cellar/users/hsher/KIR_development')\n",
    "\n",
    "from normalization.coverage import four_mer, four_mer_coverage\n",
    "import pandas as pd\n",
    "four_mers = four_mer()"
   ]
  },
  {
   "cell_type": "code",
   "execution_count": 6,
   "metadata": {},
   "outputs": [],
   "source": [
    "# select only the qualified k-mers\n",
    "from normalization.kmer_selection import select_qualified_kmer\n",
    "kmer_df = pd.read_csv('~/Data/kmer_df', header = 0)\n",
    "kmer_df = kmer_df.loc[kmer_df['length'] == 20]\n",
    "selected_kmer = select_qualified_kmer(kmer_df['kmer'])\n",
    "kmer_df = kmer_df.loc[kmer_df['kmer'].isin(selected_kmer)]\n",
    "\n",
    "gene_kmer_count = kmer_df.groupby(by = 'gene').count()['kmer']"
   ]
  },
  {
   "cell_type": "markdown",
   "metadata": {},
   "source": [
    "# Normalize by 4-mer estimated coverage"
   ]
  },
  {
   "cell_type": "code",
   "execution_count": 23,
   "metadata": {},
   "outputs": [],
   "source": [
    "# parallel by \n",
    "def normalize(series_index):\n",
    "    return(q_kmer.loc[series_index]/four_cov[series_index])\n",
    "def normalize_4mer(df):\n",
    "    # make sure no dups\n",
    "    df.drop_duplicates(inplace = True) # weird dbGap kmer has duplicates\n",
    "    \n",
    "    # retrieve four mer coverages\n",
    "    global four_cov\n",
    "    four_cov = four_mer_coverage(df, four_mers)\n",
    "\n",
    "    print('done retrieving normalization')\n",
    "    # retrieve qualifies k-mer\n",
    "    global q_kmer\n",
    "    q_kmer = df[selected_kmer]\n",
    "    \n",
    "    \n",
    "    \n",
    "    # normalize by four-mer estimated coverage or KIR reads\n",
    "    from multiprocessing import Pool, Manager\n",
    "    \n",
    "    \n",
    "    with Pool(8) as p:\n",
    "        normalized = p.map(normalize, q_kmer.index)\n",
    "    \n",
    "    return(pd.concat(normalized, axis = 1).transpose())    \n",
    "        \n"
   ]
  },
  {
   "cell_type": "code",
   "execution_count": 24,
   "metadata": {},
   "outputs": [
    {
     "name": "stdout",
     "output_type": "stream",
     "text": [
      "done retrieving normalization\n"
     ]
    }
   ],
   "source": [
    "d = pd.read_csv('~/Data/kmers/dbGap_kmer.csv', header = 0, index_col= 0)\n",
    "d_out = normalize_4mer(d)"
   ]
  },
  {
   "cell_type": "code",
   "execution_count": 27,
   "metadata": {},
   "outputs": [],
   "source": [
    "d_out.to_csv('~/Data/normalized_kmer/nor_dbGap.csv')"
   ]
  },
  {
   "cell_type": "code",
   "execution_count": 26,
   "metadata": {},
   "outputs": [
    {
     "data": {
      "text/plain": [
       "(1635, 2868)"
      ]
     },
     "execution_count": 26,
     "metadata": {},
     "output_type": "execute_result"
    }
   ],
   "source": [
    "d_out.shape"
   ]
  },
  {
   "cell_type": "code",
   "execution_count": 28,
   "metadata": {},
   "outputs": [
    {
     "name": "stdout",
     "output_type": "stream",
     "text": [
      "done retrieving normalization\n"
     ]
    }
   ],
   "source": [
    "d = pd.read_csv('~/Data/kmers/KhoeSan_kmers.csv', header = 0, index_col= 0)\n",
    "d_out = normalize_4mer(d)\n",
    "d_out.to_csv('~/Data/normalized_kmer/nor_KhoeSan.csv')"
   ]
  },
  {
   "cell_type": "markdown",
   "metadata": {},
   "source": [
    "# Normalize by number of qualified k-mer\n"
   ]
  },
  {
   "cell_type": "code",
   "execution_count": 30,
   "metadata": {},
   "outputs": [],
   "source": [
    "from multiprocessing import Pool\n",
    "def normalize(col):\n",
    "    return(df[col]/denominator)\n",
    "\n",
    "def normalize_col(gene):\n",
    "    cols = kmer_df.loc[kmer_df['gene'] == gene, 'kmer']\n",
    "    global denominator\n",
    "    denominator = gene_kmer_count[gene]\n",
    "    with Pool(16) as p:\n",
    "        series = p.map(normalize, cols)\n",
    "    return(pd.concat(series, axis = 1))\n",
    "\n",
    "def normalize_by_kmer(df, output_name):\n",
    "    output_df = pd.DataFrame(index = df.index)\n",
    "    # normalize by count of k-mer\n",
    "    for gene in gene_kmer_count.index:\n",
    "        concat_df = normalize_col(gene)\n",
    "        output_df = output_df.join(concat_df)\n",
    "    output_df.to_csv(output_name)"
   ]
  },
  {
   "cell_type": "code",
   "execution_count": 32,
   "metadata": {},
   "outputs": [],
   "source": [
    "df = pd.read_csv('~/Data/normalized_kmer/nor_KhoeSan.csv', header = 0, index_col = 0)\n",
    "normalize_by_kmer(df, '~/Data/normalized_kmer/nornor_KhoeSan.csv')\n"
   ]
  },
  {
   "cell_type": "code",
   "execution_count": 33,
   "metadata": {},
   "outputs": [],
   "source": [
    "df = pd.read_csv('~/Data/normalized_kmer/nor_dbGap.csv', header = 0, index_col = 0)\n",
    "normalize_by_kmer(df, '~/Data/normalized_kmer/nornor_dbGap.csv')\n"
   ]
  },
  {
   "cell_type": "code",
   "execution_count": null,
   "metadata": {},
   "outputs": [],
   "source": []
  }
 ],
 "metadata": {
  "kernelspec": {
   "display_name": "Python 3",
   "language": "python",
   "name": "python3"
  },
  "language_info": {
   "codemirror_mode": {
    "name": "ipython",
    "version": 3
   },
   "file_extension": ".py",
   "mimetype": "text/x-python",
   "name": "python",
   "nbconvert_exporter": "python",
   "pygments_lexer": "ipython3",
   "version": "3.7.3"
  }
 },
 "nbformat": 4,
 "nbformat_minor": 2
}
