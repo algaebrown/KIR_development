{
 "cells": [
  {
   "cell_type": "code",
   "execution_count": 1,
   "metadata": {},
   "outputs": [],
   "source": [
    "all_data = read.table('/cellar/users/hsher/Data/nor_read.csv', sep = ',', row.names = 1, header = TRUE, nrows = 1000)\n"
   ]
  },
  {
   "cell_type": "code",
   "execution_count": 2,
   "metadata": {},
   "outputs": [],
   "source": [
    "capture_kits <- read.table('/cellar/users/ramarty/Data/kir/ref/sample.capture.kit', sep = '\\t', header = T)"
   ]
  },
  {
   "cell_type": "code",
   "execution_count": 3,
   "metadata": {},
   "outputs": [],
   "source": [
    "# select only the ones that are in the loaded data\n",
    "capture_kits <- subset(capture_kits, capture_kits$SHORT_ID %in% row.names(all_data))"
   ]
  },
  {
   "cell_type": "code",
   "execution_count": 4,
   "metadata": {},
   "outputs": [
    {
     "data": {
      "text/html": [
       "<ol class=list-inline>\n",
       "\t<li>Agilent Custom</li>\n",
       "\t<li>Sureselect.38</li>\n",
       "\t<li>Nimblegen HGSC</li>\n",
       "\t<li>Nimblegen.SQEZ2</li>\n",
       "\t<li>Nimblegen hg18</li>\n",
       "\t<li>Nimblegen.SQEZ3</li>\n",
       "</ol>\n",
       "\n",
       "<details>\n",
       "\t<summary style=display:list-item;cursor:pointer>\n",
       "\t\t<strong>Levels</strong>:\n",
       "\t</summary>\n",
       "\t<ol class=list-inline>\n",
       "\t\t<li>'Agilent Custom'</li>\n",
       "\t\t<li>'Nimblegen hg18'</li>\n",
       "\t\t<li>'Nimblegen HGSC'</li>\n",
       "\t\t<li>'Nimblegen.SQEZ2'</li>\n",
       "\t\t<li>'Nimblegen.SQEZ3'</li>\n",
       "\t\t<li>'Sureselect.38'</li>\n",
       "\t</ol>\n",
       "</details>"
      ],
      "text/latex": [
       "\\begin{enumerate*}\n",
       "\\item Agilent Custom\n",
       "\\item Sureselect.38\n",
       "\\item Nimblegen HGSC\n",
       "\\item Nimblegen.SQEZ2\n",
       "\\item Nimblegen hg18\n",
       "\\item Nimblegen.SQEZ3\n",
       "\\end{enumerate*}\n",
       "\n",
       "\\emph{Levels}: \\begin{enumerate*}\n",
       "\\item 'Agilent Custom'\n",
       "\\item 'Nimblegen hg18'\n",
       "\\item 'Nimblegen HGSC'\n",
       "\\item 'Nimblegen.SQEZ2'\n",
       "\\item 'Nimblegen.SQEZ3'\n",
       "\\item 'Sureselect.38'\n",
       "\\end{enumerate*}\n"
      ],
      "text/markdown": [
       "1. Agilent Custom\n",
       "2. Sureselect.38\n",
       "3. Nimblegen HGSC\n",
       "4. Nimblegen.SQEZ2\n",
       "5. Nimblegen hg18\n",
       "6. Nimblegen.SQEZ3\n",
       "\n",
       "\n",
       "\n",
       "**Levels**: 1. 'Agilent Custom'\n",
       "2. 'Nimblegen hg18'\n",
       "3. 'Nimblegen HGSC'\n",
       "4. 'Nimblegen.SQEZ2'\n",
       "5. 'Nimblegen.SQEZ3'\n",
       "6. 'Sureselect.38'\n",
       "\n",
       "\n"
      ],
      "text/plain": [
       "[1] Agilent Custom  Sureselect.38   Nimblegen HGSC  Nimblegen.SQEZ2\n",
       "[5] Nimblegen hg18  Nimblegen.SQEZ3\n",
       "6 Levels: Agilent Custom Nimblegen hg18 Nimblegen HGSC ... Sureselect.38"
      ]
     },
     "metadata": {},
     "output_type": "display_data"
    }
   ],
   "source": [
    "# group by capture kit\n",
    "unique(capture_kits$KIT)"
   ]
  },
  {
   "cell_type": "code",
   "execution_count": 13,
   "metadata": {},
   "outputs": [],
   "source": [
    "ag = subset(all_data, row.names(all_data) %in% capture_kits$SHORT_ID[capture_kits$KIT == 'Agilent Custom'])\n",
    "su = subset(all_data, row.names(all_data) %in% capture_kits$SHORT_ID[capture_kits$KIT == 'Sureselect.38'])\n",
    "nim1 = subset(all_data, row.names(all_data) %in% capture_kits$SHORT_ID[capture_kits$KIT == 'Nimblegen HGSC'])\n",
    "nim2 = subset(all_data, row.names(all_data) %in% capture_kits$SHORT_ID[capture_kits$KIT == 'Nimblegen.SQEZ2'])\n",
    "nim3 = subset(all_data, row.names(all_data) %in% capture_kits$SHORT_ID[capture_kits$KIT == 'Nimblegen hg18'])\n",
    "nim4 = subset(all_data, row.names(all_data) %in% capture_kits$SHORT_ID[capture_kits$KIT == 'Nimblegen.SQEZ3'])"
   ]
  },
  {
   "cell_type": "code",
   "execution_count": 18,
   "metadata": {},
   "outputs": [
    {
     "ename": "ERROR",
     "evalue": "Error in library(liger): there is no package called ‘liger’\n",
     "output_type": "error",
     "traceback": [
      "Error in library(liger): there is no package called ‘liger’\nTraceback:\n",
      "1. library(liger)"
     ]
    }
   ],
   "source": [
    "library(liger)\n",
    "library(cowplot)"
   ]
  },
  {
   "cell_type": "code",
   "execution_count": null,
   "metadata": {},
   "outputs": [],
   "source": []
  }
 ],
 "metadata": {
  "kernelspec": {
   "display_name": "R",
   "language": "R",
   "name": "ir"
  },
  "language_info": {
   "codemirror_mode": "r",
   "file_extension": ".r",
   "mimetype": "text/x-r-source",
   "name": "R",
   "pygments_lexer": "r",
   "version": "3.6.1"
  }
 },
 "nbformat": 4,
 "nbformat_minor": 2
}
