{
 "cells": [
  {
   "cell_type": "code",
   "execution_count": 1,
   "metadata": {},
   "outputs": [
    {
     "ename": "SyntaxError",
     "evalue": "Missing parentheses in call to 'print'. Did you mean print(s)? (merge_kmer.py, line 30)",
     "output_type": "error",
     "traceback": [
      "Traceback \u001b[0;36m(most recent call last)\u001b[0m:\n",
      "  File \u001b[1;32m\"/nrnb/opt/anaconda3.7/lib/python3.7/site-packages/IPython/core/interactiveshell.py\"\u001b[0m, line \u001b[1;32m3296\u001b[0m, in \u001b[1;35mrun_code\u001b[0m\n    exec(code_obj, self.user_global_ns, self.user_ns)\n",
      "\u001b[0;36m  File \u001b[0;32m\"<ipython-input-1-a522dd6094c0>\"\u001b[0;36m, line \u001b[0;32m4\u001b[0;36m, in \u001b[0;35m<module>\u001b[0;36m\u001b[0m\n\u001b[0;31m    from merge_kmer import merge_kmer\u001b[0m\n",
      "\u001b[0;36m  File \u001b[0;32m\"/cellar/users/hsher/KIR_development/merge_kmer.py\"\u001b[0;36m, line \u001b[0;32m30\u001b[0m\n\u001b[0;31m    print s\u001b[0m\n\u001b[0m          ^\u001b[0m\n\u001b[0;31mSyntaxError\u001b[0m\u001b[0;31m:\u001b[0m Missing parentheses in call to 'print'. Did you mean print(s)?\n"
     ]
    }
   ],
   "source": [
    "import sys\n",
    "sys.path.append('/cellar/users/hsher/KIR_development')\n",
    "\n",
    "from merge_kmer import merge_kmer"
   ]
  },
  {
   "cell_type": "code",
   "execution_count": 5,
   "metadata": {},
   "outputs": [],
   "source": [
    "categories = ['components_four_counts', 'components_four_read_counts']\n",
    "components = [x.strip() for x in open('/cellar/users/ramarty/Data/kir/kmers/kmer_groups/component_and_four_mers.txt')]\n",
    "file_dir = '/nrnb/users/ramarty/kir/PING/KhoeSan/sra/'\n",
    "samples = ['SRR1171049', 'SRR1171058', 'SRR1175182', 'SRR1258307', \n",
    "            'SRR1171017', 'SRR1171051', 'SRR1175179', 'SRR1175183', 'SRR1265483',\n",
    "            'SRR1171020', 'SRR1171052', 'SRR1175180', 'SRR1175184', 'SRR1265484',\n",
    "            'SRR1171021', 'SRR1171056', 'SRR1175181', 'SRR1258307']"
   ]
  },
  {
   "cell_type": "code",
   "execution_count": 20,
   "metadata": {},
   "outputs": [
    {
     "name": "stdout",
     "output_type": "stream",
     "text": [
      "SRR1171049\n",
      "SRR1171058\n",
      "SRR1175182\n",
      "SRR1258307\n",
      "SRR1171017\n",
      "SRR1171051\n",
      "SRR1175179\n",
      "SRR1175183\n",
      "SRR1265483\n",
      "SRR1171020\n",
      "SRR1171052\n",
      "SRR1175180\n",
      "SRR1175184\n",
      "SRR1265484\n",
      "SRR1171021\n",
      "SRR1171056\n",
      "SRR1175181\n",
      "SRR1258307\n",
      "21767 18\n",
      "SRR1171049\n",
      "SRR1171058\n",
      "SRR1175182\n",
      "SRR1258307\n",
      "SRR1171017\n",
      "SRR1171051\n",
      "SRR1175179\n",
      "SRR1175183\n",
      "SRR1265483\n",
      "SRR1171020\n",
      "SRR1171052\n",
      "SRR1175180\n",
      "SRR1175184\n",
      "SRR1265484\n",
      "SRR1171021\n",
      "SRR1171056\n",
      "SRR1175181\n",
      "SRR1258307\n",
      "21767 18\n"
     ]
    }
   ],
   "source": [
    "f = merge_kmer(components, categories, file_dir, samples, '~/Data/KhoeSan/')\n"
   ]
  },
  {
   "cell_type": "code",
   "execution_count": 21,
   "metadata": {},
   "outputs": [],
   "source": [
    "import sys\n",
    "sys.path.append('/cellar/users/hsher/KIR_development')\n",
    "\n",
    "from normalization.coverage import four_mer, four_mer_coverage\n",
    "four_mers = four_mer()\n",
    "\n",
    "# select only the qualified k-mers\n",
    "from normalization.kmer_selection import select_qualified_kmer\n",
    "kmer_df = pd.read_csv('~/Data/kmer_df', header = 0)\n",
    "kmer_df = kmer_df.loc[kmer_df['length'] == 20]\n",
    "selected_kmer = select_qualified_kmer(kmer_df['kmer'])\n",
    "kmer_df = kmer_df.loc[kmer_df['kmer'].isin(selected_kmer)]\n",
    "\n",
    "gene_kmer_count = kmer_df.groupby(by = 'gene').count()['kmer']"
   ]
  },
  {
   "cell_type": "code",
   "execution_count": 27,
   "metadata": {},
   "outputs": [],
   "source": [
    "df = pd.read_csv('~/Data/KhoeSan/components_four_counts.csv', header = 0, index_col = 0)"
   ]
  },
  {
   "cell_type": "code",
   "execution_count": 24,
   "metadata": {},
   "outputs": [
    {
     "data": {
      "text/plain": [
       "0"
      ]
     },
     "execution_count": 24,
     "metadata": {},
     "output_type": "execute_result"
    }
   ],
   "source": [
    "len(set(selected_kmer)-(set(df.columns)))"
   ]
  },
  {
   "cell_type": "code",
   "execution_count": 25,
   "metadata": {},
   "outputs": [
    {
     "data": {
      "text/plain": [
       "0"
      ]
     },
     "execution_count": 25,
     "metadata": {},
     "output_type": "execute_result"
    }
   ],
   "source": [
    "len(set(four_mers)-(set(df.columns)))"
   ]
  },
  {
   "cell_type": "code",
   "execution_count": 29,
   "metadata": {},
   "outputs": [],
   "source": [
    "df[selected_kmer.tolist()+four_mers].to_csv('~/Data/kmers/KhoeSan_kmers.csv')"
   ]
  },
  {
   "cell_type": "code",
   "execution_count": null,
   "metadata": {},
   "outputs": [],
   "source": []
  }
 ],
 "metadata": {
  "kernelspec": {
   "display_name": "Python 3",
   "language": "python",
   "name": "python3"
  },
  "language_info": {
   "codemirror_mode": {
    "name": "ipython",
    "version": 3
   },
   "file_extension": ".py",
   "mimetype": "text/x-python",
   "name": "python",
   "nbconvert_exporter": "python",
   "pygments_lexer": "ipython3",
   "version": "3.7.3"
  }
 },
 "nbformat": 4,
 "nbformat_minor": 2
}
