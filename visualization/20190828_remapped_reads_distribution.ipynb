{
 "cells": [
  {
   "cell_type": "markdown",
   "metadata": {},
   "source": [
    "# Inputs:\n",
    "**reference sequences** are from `/cellar/users/ramarty/Data/kir/ref/all_alleles_and_random` which consists of all the *KIR alleles*(n= 703) from [IPD](https://www.ebi.ac.uk/ipd/kir/sequenced_haplotypes.html) and 100 random genes (n = 100, ID starts with ENST)\n",
    "\n",
    "**remapped reads** are .bam files in `/nrnb/users/ramarty/TCGA/exome/{TCGA-short-bard-code}/KIR_and_unmappedlaligned.bam`.\n",
    "\n",
    "To see the pipeline that produces them please refer to `/data_gathering/TCGA/exon_data_pull.ipynb` for more detail\n",
    "\n",
    "# Question I want to answer.\n",
    "1. per sample\n",
    "- how many read are mapped to KIR/random gene region (coverage) `bedtools`\n",
    "- do these two correlate\n",
    "- collapsing KIR alleles into KIR genes, do all samples have anchoring KIRs (which they should have)\n",
    "- KIRs are very homologous and do 1 read map to multiple allele??\n",
    "- how good do they align ( how do I detect reads that are mapped incorretly, quality score? a lot of inder/SNPs)\n",
    "\n",
    "2. group by KIT"
   ]
  },
  {
   "cell_type": "code",
   "execution_count": 23,
   "metadata": {},
   "outputs": [],
   "source": [
    "import os\n",
    "folder = '/nrnb/users/ramarty/TCGA/exomes/'\n",
    "short_id_list = [f.path for f in os.scandir(folder) if f.is_dir() ]"
   ]
  },
  {
   "cell_type": "code",
   "execution_count": 24,
   "metadata": {},
   "outputs": [
    {
     "data": {
      "text/plain": [
       "10529"
      ]
     },
     "execution_count": 24,
     "metadata": {},
     "output_type": "execute_result"
    }
   ],
   "source": [
    "len(short_id_list)"
   ]
  },
  {
   "cell_type": "code",
   "execution_count": 29,
   "metadata": {},
   "outputs": [],
   "source": [
    "short_id_list = [i.split('/')[-1] for i in short_id_list] # just the barcode would be enough"
   ]
  },
  {
   "cell_type": "code",
   "execution_count": 27,
   "metadata": {},
   "outputs": [],
   "source": [
    "# run bedtools for all bam in regard to coverage of reference sequence\n",
    "\n",
    "# all short_id\n",
    "\n",
    "# generate script to send to cluster\n",
    "import sys\n",
    "sys.path.append(\"/cellar/users/hsher/KIR_development\") \n",
    "from KIR_read.send_to_cluster import slurm_bedtools\n"
   ]
  },
  {
   "cell_type": "code",
   "execution_count": 30,
   "metadata": {},
   "outputs": [],
   "source": [
    "slurm_bedtools(short_id_list, '/cellar/users/hsher/KIR_development/KIR_read/bdslurm.sh')"
   ]
  },
  {
   "cell_type": "code",
   "execution_count": null,
   "metadata": {},
   "outputs": [],
   "source": []
  }
 ],
 "metadata": {
  "kernelspec": {
   "display_name": "Python 3",
   "language": "python",
   "name": "python3"
  },
  "language_info": {
   "codemirror_mode": {
    "name": "ipython",
    "version": 3
   },
   "file_extension": ".py",
   "mimetype": "text/x-python",
   "name": "python",
   "nbconvert_exporter": "python",
   "pygments_lexer": "ipython3",
   "version": "3.7.3"
  }
 },
 "nbformat": 4,
 "nbformat_minor": 2
}
