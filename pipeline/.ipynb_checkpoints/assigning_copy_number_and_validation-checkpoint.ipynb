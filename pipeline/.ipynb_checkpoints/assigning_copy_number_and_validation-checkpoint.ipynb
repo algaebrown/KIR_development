{
 "cells": [
  {
   "cell_type": "code",
   "execution_count": 1,
   "metadata": {
    "scrolled": true
   },
   "outputs": [
    {
     "name": "stderr",
     "output_type": "stream",
     "text": [
      "/cellar/users/ramarty/anaconda/lib/python2.7/site-packages/IPython/nbformat.py:13: ShimWarning: The `IPython.nbformat` package has been deprecated since IPython 4.0. You should import from nbformat instead.\n",
      "  \"You should import from nbformat instead.\", ShimWarning)\n",
      "/cellar/users/ramarty/anaconda/lib/python2.7/site-packages/nbformat/current.py:19: UserWarning: nbformat.current is deprecated.\n",
      "\n",
      "- use nbformat for read/write/validate public API\n",
      "- use nbformat.vX directly to composing notebooks of a particular version\n",
      "\n",
      "  \"\"\")\n"
     ]
    },
    {
     "name": "stdout",
     "output_type": "stream",
     "text": [
      "Populating the interactive namespace from numpy and matplotlib\n",
      "Populating the interactive namespace from numpy and matplotlib\n",
      "Populating the interactive namespace from numpy and matplotlib\n"
     ]
    }
   ],
   "source": [
    "import io\n",
    "from IPython.nbformat import current\n",
    "def execute_notebook(nbfile):\n",
    "    with io.open(nbfile) as f:\n",
    "        nb = current.read(f, 'json')\n",
    "    ip = get_ipython()\n",
    "    for cell in nb.worksheets[0].cells:\n",
    "        if cell.cell_type != 'code':\n",
    "            continue\n",
    "        ip.run_cell(cell.input)\n",
    "execute_notebook(\"/cellar/users/ramarty/Projects/kir/KIR_development/bin/imports.ipynb\")\n",
    "execute_notebook(\"/cellar/users/ramarty/Projects/kir/KIR_development/data_gathering/alternate/sample_mapping.ipynb\")"
   ]
  },
  {
   "cell_type": "markdown",
   "metadata": {},
   "source": [
    "### Import Data"
   ]
  },
  {
   "cell_type": "code",
   "execution_count": 2,
   "metadata": {},
   "outputs": [],
   "source": [
    "anchor_genes = ['KIR3DL3', 'KIR3DP1', 'KIR2DL4', 'KIR3DL2']\n",
    "high_freq = ['KIR2DP1', 'KIR2DL1', 'KIR2DS4', 'KIR2DL5'] \n",
    "low_freq = ['KIR2DS3', 'KIR2DS2',  'KIR2DS5']"
   ]
  },
  {
   "cell_type": "code",
   "execution_count": 3,
   "metadata": {},
   "outputs": [],
   "source": [
    "gene_cutoffs = pickle.load(open('/cellar/users/ramarty/Data/kir/TCGA/cutoffs/random_mean.p'))"
   ]
  },
  {
   "cell_type": "code",
   "execution_count": 4,
   "metadata": {},
   "outputs": [
    {
     "data": {
      "text/plain": [
       "{'KIR2DL1': [1.380130777569497, 5.471232725364792, 10.99175583564278],\n",
       " 'KIR2DL4': [0.26960555012529236, 3.1633717881367636, 6.057138026148235],\n",
       " 'KIR2DP1': [0.588187742625545, 2.0978696153644436, 4.254558004991441],\n",
       " 'KIR2DS2': [1.3893242235375136, 7.387676426747095, 13.386028629956678],\n",
       " 'KIR2DS3': [2.0133574446754285, 10.290493606118858, 18.567629767562284],\n",
       " 'KIR2DS4': [1.1899337753873325, 4.196082260576382, 7.797197633459099],\n",
       " 'KIR2DS5': [1.2337916093655559, 4.698908469711372, 8.16402533005719],\n",
       " 'KIR3DL2': [0.0, 4.256464436960834, 9.518392914148636],\n",
       " 'KIR3DL3': [0.4582159147767396, 3.8621055674039484, 7.265995220031157],\n",
       " 'KIR3DP1': [0.0, 2.7914449801138814, 5.609860443127414],\n",
       " 'KIR3DS1': [0.27311469247608006, 1.5216390009381602, 2.7701633094002402]}"
      ]
     },
     "execution_count": 4,
     "metadata": {},
     "output_type": "execute_result"
    }
   ],
   "source": [
    "gene_cutoffs"
   ]
  },
  {
   "cell_type": "code",
   "execution_count": 5,
   "metadata": {},
   "outputs": [],
   "source": [
    "gene_values_df = pd.read_csv('/cellar/users/ramarty/Data/kir/TCGA/data_frames/TCGA.patient_gene_values.random_mean.csv',\n",
    "                            index_col=0)"
   ]
  },
  {
   "cell_type": "code",
   "execution_count": 6,
   "metadata": {
    "scrolled": true
   },
   "outputs": [
    {
     "data": {
      "text/html": [
       "<div>\n",
       "<style scoped>\n",
       "    .dataframe tbody tr th:only-of-type {\n",
       "        vertical-align: middle;\n",
       "    }\n",
       "\n",
       "    .dataframe tbody tr th {\n",
       "        vertical-align: top;\n",
       "    }\n",
       "\n",
       "    .dataframe thead th {\n",
       "        text-align: right;\n",
       "    }\n",
       "</style>\n",
       "<table border=\"1\" class=\"dataframe\">\n",
       "  <thead>\n",
       "    <tr style=\"text-align: right;\">\n",
       "      <th></th>\n",
       "      <th>KIR3DL3</th>\n",
       "      <th>KIR3DP1</th>\n",
       "      <th>KIR2DL4</th>\n",
       "      <th>KIR3DL2</th>\n",
       "      <th>KIR2DP1</th>\n",
       "      <th>KIR2DL1</th>\n",
       "      <th>KIR2DS4</th>\n",
       "      <th>KIR2DS3</th>\n",
       "      <th>KIR2DS2</th>\n",
       "      <th>KIR2DS5</th>\n",
       "      <th>KIR3DS1</th>\n",
       "    </tr>\n",
       "  </thead>\n",
       "  <tbody>\n",
       "    <tr>\n",
       "      <th>TCGA-02-0003</th>\n",
       "      <td>5.444933</td>\n",
       "      <td>3.656040</td>\n",
       "      <td>4.655368</td>\n",
       "      <td>6.833107</td>\n",
       "      <td>2.644844</td>\n",
       "      <td>7.791039</td>\n",
       "      <td>5.546058</td>\n",
       "      <td>0.002928</td>\n",
       "      <td>0.000000</td>\n",
       "      <td>0.008251</td>\n",
       "      <td>0.000000</td>\n",
       "    </tr>\n",
       "    <tr>\n",
       "      <th>TCGA-02-0033</th>\n",
       "      <td>5.416096</td>\n",
       "      <td>1.762030</td>\n",
       "      <td>2.234819</td>\n",
       "      <td>6.426354</td>\n",
       "      <td>1.406267</td>\n",
       "      <td>3.897862</td>\n",
       "      <td>2.638110</td>\n",
       "      <td>0.009700</td>\n",
       "      <td>3.433759</td>\n",
       "      <td>2.816651</td>\n",
       "      <td>0.000000</td>\n",
       "    </tr>\n",
       "    <tr>\n",
       "      <th>TCGA-02-0047</th>\n",
       "      <td>5.878756</td>\n",
       "      <td>3.795708</td>\n",
       "      <td>4.768531</td>\n",
       "      <td>7.359189</td>\n",
       "      <td>1.508740</td>\n",
       "      <td>3.411130</td>\n",
       "      <td>5.415465</td>\n",
       "      <td>0.008244</td>\n",
       "      <td>3.596917</td>\n",
       "      <td>0.000334</td>\n",
       "      <td>0.000000</td>\n",
       "    </tr>\n",
       "    <tr>\n",
       "      <th>TCGA-02-0055</th>\n",
       "      <td>5.276827</td>\n",
       "      <td>3.586193</td>\n",
       "      <td>4.607362</td>\n",
       "      <td>6.448755</td>\n",
       "      <td>1.383465</td>\n",
       "      <td>3.646851</td>\n",
       "      <td>5.895592</td>\n",
       "      <td>0.002518</td>\n",
       "      <td>3.106109</td>\n",
       "      <td>0.001223</td>\n",
       "      <td>0.000000</td>\n",
       "    </tr>\n",
       "    <tr>\n",
       "      <th>TCGA-02-2470</th>\n",
       "      <td>5.068087</td>\n",
       "      <td>3.713773</td>\n",
       "      <td>4.227034</td>\n",
       "      <td>6.238302</td>\n",
       "      <td>2.643354</td>\n",
       "      <td>7.629105</td>\n",
       "      <td>3.059884</td>\n",
       "      <td>0.004701</td>\n",
       "      <td>0.000000</td>\n",
       "      <td>2.713178</td>\n",
       "      <td>0.719213</td>\n",
       "    </tr>\n",
       "  </tbody>\n",
       "</table>\n",
       "</div>"
      ],
      "text/plain": [
       "               KIR3DL3   KIR3DP1   KIR2DL4   KIR3DL2   KIR2DP1   KIR2DL1  \\\n",
       "TCGA-02-0003  5.444933  3.656040  4.655368  6.833107  2.644844  7.791039   \n",
       "TCGA-02-0033  5.416096  1.762030  2.234819  6.426354  1.406267  3.897862   \n",
       "TCGA-02-0047  5.878756  3.795708  4.768531  7.359189  1.508740  3.411130   \n",
       "TCGA-02-0055  5.276827  3.586193  4.607362  6.448755  1.383465  3.646851   \n",
       "TCGA-02-2470  5.068087  3.713773  4.227034  6.238302  2.643354  7.629105   \n",
       "\n",
       "               KIR2DS4   KIR2DS3   KIR2DS2   KIR2DS5   KIR3DS1  \n",
       "TCGA-02-0003  5.546058  0.002928  0.000000  0.008251  0.000000  \n",
       "TCGA-02-0033  2.638110  0.009700  3.433759  2.816651  0.000000  \n",
       "TCGA-02-0047  5.415465  0.008244  3.596917  0.000334  0.000000  \n",
       "TCGA-02-0055  5.895592  0.002518  3.106109  0.001223  0.000000  \n",
       "TCGA-02-2470  3.059884  0.004701  0.000000  2.713178  0.719213  "
      ]
     },
     "execution_count": 6,
     "metadata": {},
     "output_type": "execute_result"
    }
   ],
   "source": [
    "gene_values_df.head()"
   ]
  },
  {
   "cell_type": "code",
   "execution_count": 7,
   "metadata": {},
   "outputs": [],
   "source": [
    "predicted_genes = list(gene_values_df.columns)"
   ]
  },
  {
   "cell_type": "markdown",
   "metadata": {},
   "source": [
    "### Assign copy numbers"
   ]
  },
  {
   "cell_type": "code",
   "execution_count": 8,
   "metadata": {},
   "outputs": [
    {
     "data": {
      "text/plain": [
       "nan"
      ]
     },
     "execution_count": 8,
     "metadata": {},
     "output_type": "execute_result"
    }
   ],
   "source": [
    "np.nan"
   ]
  },
  {
   "cell_type": "code",
   "execution_count": 9,
   "metadata": {},
   "outputs": [
    {
     "ename": "SyntaxError",
     "evalue": "invalid syntax (<ipython-input-9-33330b2c1059>, line 5)",
     "output_type": "error",
     "traceback": [
      "\u001b[0;36m  File \u001b[0;32m\"<ipython-input-9-33330b2c1059>\"\u001b[0;36m, line \u001b[0;32m5\u001b[0m\n\u001b[0;31m    if x <= gene_cutoffs[gene][0] - :\u001b[0m\n\u001b[0m                                    ^\u001b[0m\n\u001b[0;31mSyntaxError\u001b[0m\u001b[0;31m:\u001b[0m invalid syntax\n"
     ]
    }
   ],
   "source": [
    "# All samples\n",
    "cn_values_df = pd.DataFrame(index=gene_values_df.index)\n",
    "for gene in predicted_genes:\n",
    "    def predict_cn(x):\n",
    "        if x <= gene_cutoffs[gene][0] - :\n",
    "            return 0\n",
    "        elif x <= gene_cutoffs[gene][1]:\n",
    "            return 1\n",
    "        elif x <= gene_cutoffs[gene][2]:\n",
    "            return 2\n",
    "        else:\n",
    "            return 3\n",
    "    cn_values_df[gene] = gene_values_df[gene].apply(predict_cn)"
   ]
  },
  {
   "cell_type": "code",
   "execution_count": null,
   "metadata": {},
   "outputs": [],
   "source": [
    "cn_values_df['KIR2DS1'] = cn_values_df['KIR3DS1']\n",
    "cn_values_df['KIR2DL2'] = cn_values_df['KIR2DS2']\n",
    "cn_values_df['KIR3DL1'] = cn_values_df['KIR2DS4']\n",
    "def evaluate_KIR2DL3(x):    \n",
    "    if x == 2:\n",
    "        return 0\n",
    "    elif x == 1:\n",
    "        return 1\n",
    "    elif x == 0:\n",
    "        return 2\n",
    "    else:\n",
    "        return 0 \n",
    "cn_values_df['KIR2DL3'] = cn_values_df['KIR2DS2'].apply(evaluate_KIR2DL3)\n",
    "cn_values_df['KIR2DL5A'] = cn_values_df['KIR2DS3'] + cn_values_df['KIR2DS5']\n",
    "#cn_values_df['KIR2DL5B'] = cn_values_df['KIR2DS3'] + cn_values_df['KIR2DS5']"
   ]
  },
  {
   "cell_type": "code",
   "execution_count": null,
   "metadata": {
    "scrolled": true
   },
   "outputs": [],
   "source": [
    "cn_values_df.head()"
   ]
  },
  {
   "cell_type": "code",
   "execution_count": null,
   "metadata": {},
   "outputs": [],
   "source": [
    "cn_values_df.to_csv('/cellar/users/ramarty/Data/kir/TCGA/data_frames/TCGA.gene_copy_numbers.kir_mean.csv')"
   ]
  },
  {
   "cell_type": "markdown",
   "metadata": {},
   "source": [
    "Assign NA to genes close to the boundary or assign confidence"
   ]
  },
  {
   "cell_type": "code",
   "execution_count": 10,
   "metadata": {},
   "outputs": [],
   "source": [
    "# Add no call zone\n",
    "cn_values_df = pd.DataFrame(index=gene_values_df.index)\n",
    "for gene in predicted_genes:\n",
    "    def predict_cn(x):\n",
    "        threshold = gene_cutoffs[gene][1] / 50\n",
    "        if x <= gene_cutoffs[gene][0] - threshold:\n",
    "            return 0\n",
    "        elif (x > gene_cutoffs[gene][0] - threshold) and (x <= gene_cutoffs[gene][0] + threshold):\n",
    "            return np.nan\n",
    "        elif (x > gene_cutoffs[gene][0] + threshold) and (x <= gene_cutoffs[gene][1] - threshold):\n",
    "            return 1\n",
    "        elif (x > gene_cutoffs[gene][1] - threshold) and (x <= gene_cutoffs[gene][1] + threshold):\n",
    "            return np.nan\n",
    "        elif (x > gene_cutoffs[gene][1] + threshold) and (x <= gene_cutoffs[gene][2]):\n",
    "            return 2\n",
    "        elif (x > gene_cutoffs[gene][2] - threshold) and (x <= gene_cutoffs[gene][2] + threshold):\n",
    "            return np.nan\n",
    "        else:\n",
    "            return 3\n",
    "    cn_values_df[gene] = gene_values_df[gene].apply(predict_cn)"
   ]
  },
  {
   "cell_type": "code",
   "execution_count": 11,
   "metadata": {},
   "outputs": [],
   "source": [
    "cn_values_df['KIR2DS1'] = cn_values_df['KIR3DS1']\n",
    "cn_values_df['KIR2DL2'] = cn_values_df['KIR2DS2']\n",
    "cn_values_df['KIR3DL1'] = cn_values_df['KIR2DS4']\n",
    "def evaluate_KIR2DL3(x):    \n",
    "    if x == 2:\n",
    "        return 0\n",
    "    elif x == 1:\n",
    "        return 1\n",
    "    elif x == 0:\n",
    "        return 2\n",
    "    else:\n",
    "        return 0 \n",
    "cn_values_df['KIR2DL3'] = cn_values_df['KIR2DS2'].apply(evaluate_KIR2DL3)\n",
    "cn_values_df['KIR2DL5A'] = cn_values_df['KIR2DS3'] + cn_values_df['KIR2DS5']\n",
    "#cn_values_df['KIR2DL5B'] = cn_values_df['KIR2DS3'] + cn_values_df['KIR2DS5']"
   ]
  },
  {
   "cell_type": "code",
   "execution_count": 12,
   "metadata": {},
   "outputs": [
    {
     "data": {
      "text/html": [
       "<div>\n",
       "<style scoped>\n",
       "    .dataframe tbody tr th:only-of-type {\n",
       "        vertical-align: middle;\n",
       "    }\n",
       "\n",
       "    .dataframe tbody tr th {\n",
       "        vertical-align: top;\n",
       "    }\n",
       "\n",
       "    .dataframe thead th {\n",
       "        text-align: right;\n",
       "    }\n",
       "</style>\n",
       "<table border=\"1\" class=\"dataframe\">\n",
       "  <thead>\n",
       "    <tr style=\"text-align: right;\">\n",
       "      <th></th>\n",
       "      <th>KIR3DL3</th>\n",
       "      <th>KIR3DP1</th>\n",
       "      <th>KIR2DL4</th>\n",
       "      <th>KIR3DL2</th>\n",
       "      <th>KIR2DP1</th>\n",
       "      <th>KIR2DL1</th>\n",
       "      <th>KIR2DS4</th>\n",
       "      <th>KIR2DS3</th>\n",
       "      <th>KIR2DS2</th>\n",
       "      <th>KIR2DS5</th>\n",
       "      <th>KIR3DS1</th>\n",
       "      <th>KIR2DS1</th>\n",
       "      <th>KIR2DL2</th>\n",
       "      <th>KIR3DL1</th>\n",
       "      <th>KIR2DL3</th>\n",
       "      <th>KIR2DL5A</th>\n",
       "    </tr>\n",
       "  </thead>\n",
       "  <tbody>\n",
       "    <tr>\n",
       "      <th>TCGA-02-0003</th>\n",
       "      <td>2.0</td>\n",
       "      <td>2.0</td>\n",
       "      <td>2.0</td>\n",
       "      <td>2.0</td>\n",
       "      <td>2.0</td>\n",
       "      <td>2.0</td>\n",
       "      <td>2.0</td>\n",
       "      <td>0.0</td>\n",
       "      <td>0.0</td>\n",
       "      <td>0.0</td>\n",
       "      <td>0.0</td>\n",
       "      <td>0.0</td>\n",
       "      <td>0.0</td>\n",
       "      <td>2.0</td>\n",
       "      <td>2</td>\n",
       "      <td>0.0</td>\n",
       "    </tr>\n",
       "    <tr>\n",
       "      <th>TCGA-02-0033</th>\n",
       "      <td>2.0</td>\n",
       "      <td>1.0</td>\n",
       "      <td>1.0</td>\n",
       "      <td>2.0</td>\n",
       "      <td>1.0</td>\n",
       "      <td>1.0</td>\n",
       "      <td>1.0</td>\n",
       "      <td>0.0</td>\n",
       "      <td>1.0</td>\n",
       "      <td>1.0</td>\n",
       "      <td>0.0</td>\n",
       "      <td>0.0</td>\n",
       "      <td>1.0</td>\n",
       "      <td>1.0</td>\n",
       "      <td>1</td>\n",
       "      <td>1.0</td>\n",
       "    </tr>\n",
       "    <tr>\n",
       "      <th>TCGA-02-0047</th>\n",
       "      <td>2.0</td>\n",
       "      <td>2.0</td>\n",
       "      <td>2.0</td>\n",
       "      <td>2.0</td>\n",
       "      <td>1.0</td>\n",
       "      <td>1.0</td>\n",
       "      <td>2.0</td>\n",
       "      <td>0.0</td>\n",
       "      <td>1.0</td>\n",
       "      <td>0.0</td>\n",
       "      <td>0.0</td>\n",
       "      <td>0.0</td>\n",
       "      <td>1.0</td>\n",
       "      <td>2.0</td>\n",
       "      <td>1</td>\n",
       "      <td>0.0</td>\n",
       "    </tr>\n",
       "    <tr>\n",
       "      <th>TCGA-02-0055</th>\n",
       "      <td>2.0</td>\n",
       "      <td>2.0</td>\n",
       "      <td>2.0</td>\n",
       "      <td>2.0</td>\n",
       "      <td>1.0</td>\n",
       "      <td>1.0</td>\n",
       "      <td>2.0</td>\n",
       "      <td>0.0</td>\n",
       "      <td>1.0</td>\n",
       "      <td>0.0</td>\n",
       "      <td>0.0</td>\n",
       "      <td>0.0</td>\n",
       "      <td>1.0</td>\n",
       "      <td>2.0</td>\n",
       "      <td>1</td>\n",
       "      <td>0.0</td>\n",
       "    </tr>\n",
       "    <tr>\n",
       "      <th>TCGA-02-2470</th>\n",
       "      <td>2.0</td>\n",
       "      <td>2.0</td>\n",
       "      <td>2.0</td>\n",
       "      <td>2.0</td>\n",
       "      <td>2.0</td>\n",
       "      <td>2.0</td>\n",
       "      <td>1.0</td>\n",
       "      <td>0.0</td>\n",
       "      <td>0.0</td>\n",
       "      <td>1.0</td>\n",
       "      <td>1.0</td>\n",
       "      <td>1.0</td>\n",
       "      <td>0.0</td>\n",
       "      <td>1.0</td>\n",
       "      <td>2</td>\n",
       "      <td>1.0</td>\n",
       "    </tr>\n",
       "  </tbody>\n",
       "</table>\n",
       "</div>"
      ],
      "text/plain": [
       "              KIR3DL3  KIR3DP1  KIR2DL4  KIR3DL2  KIR2DP1  KIR2DL1  KIR2DS4  \\\n",
       "TCGA-02-0003      2.0      2.0      2.0      2.0      2.0      2.0      2.0   \n",
       "TCGA-02-0033      2.0      1.0      1.0      2.0      1.0      1.0      1.0   \n",
       "TCGA-02-0047      2.0      2.0      2.0      2.0      1.0      1.0      2.0   \n",
       "TCGA-02-0055      2.0      2.0      2.0      2.0      1.0      1.0      2.0   \n",
       "TCGA-02-2470      2.0      2.0      2.0      2.0      2.0      2.0      1.0   \n",
       "\n",
       "              KIR2DS3  KIR2DS2  KIR2DS5  KIR3DS1  KIR2DS1  KIR2DL2  KIR3DL1  \\\n",
       "TCGA-02-0003      0.0      0.0      0.0      0.0      0.0      0.0      2.0   \n",
       "TCGA-02-0033      0.0      1.0      1.0      0.0      0.0      1.0      1.0   \n",
       "TCGA-02-0047      0.0      1.0      0.0      0.0      0.0      1.0      2.0   \n",
       "TCGA-02-0055      0.0      1.0      0.0      0.0      0.0      1.0      2.0   \n",
       "TCGA-02-2470      0.0      0.0      1.0      1.0      1.0      0.0      1.0   \n",
       "\n",
       "              KIR2DL3  KIR2DL5A  \n",
       "TCGA-02-0003        2       0.0  \n",
       "TCGA-02-0033        1       1.0  \n",
       "TCGA-02-0047        1       0.0  \n",
       "TCGA-02-0055        1       0.0  \n",
       "TCGA-02-2470        2       1.0  "
      ]
     },
     "execution_count": 12,
     "metadata": {},
     "output_type": "execute_result"
    }
   ],
   "source": [
    "cn_values_df.head()"
   ]
  },
  {
   "cell_type": "code",
   "execution_count": 13,
   "metadata": {},
   "outputs": [
    {
     "data": {
      "text/plain": [
       "4717"
      ]
     },
     "execution_count": 13,
     "metadata": {},
     "output_type": "execute_result"
    }
   ],
   "source": [
    "len(cn_values_df)"
   ]
  },
  {
   "cell_type": "code",
   "execution_count": 14,
   "metadata": {},
   "outputs": [],
   "source": [
    "cn_values_df.to_csv('/cellar/users/ramarty/Data/kir/TCGA/data_frames/TCGA.gene_copy_numbers.kir_mean.excluded_close_boundaries.csv')"
   ]
  },
  {
   "cell_type": "markdown",
   "metadata": {},
   "source": [
    "### Visualize copy numbers"
   ]
  },
  {
   "cell_type": "code",
   "execution_count": 15,
   "metadata": {},
   "outputs": [],
   "source": [
    "# need to race to dataframe\n",
    "clinical = pd.read_csv('/cellar/users/ramarty/Data/hla_sex/clean_data/clinical.csv', index_col=0)"
   ]
  },
  {
   "cell_type": "code",
   "execution_count": 16,
   "metadata": {},
   "outputs": [
    {
     "data": {
      "text/html": [
       "<div>\n",
       "<style scoped>\n",
       "    .dataframe tbody tr th:only-of-type {\n",
       "        vertical-align: middle;\n",
       "    }\n",
       "\n",
       "    .dataframe tbody tr th {\n",
       "        vertical-align: top;\n",
       "    }\n",
       "\n",
       "    .dataframe thead th {\n",
       "        text-align: right;\n",
       "    }\n",
       "</style>\n",
       "<table border=\"1\" class=\"dataframe\">\n",
       "  <thead>\n",
       "    <tr style=\"text-align: right;\">\n",
       "      <th></th>\n",
       "      <th>Age</th>\n",
       "      <th>Sex</th>\n",
       "      <th>Tissue</th>\n",
       "      <th>Race</th>\n",
       "      <th>days_to_death</th>\n",
       "      <th>days_to_last_followup</th>\n",
       "      <th>vital_status</th>\n",
       "    </tr>\n",
       "  </thead>\n",
       "  <tbody>\n",
       "    <tr>\n",
       "      <th>TCGA-18-3406</th>\n",
       "      <td>67</td>\n",
       "      <td>Male</td>\n",
       "      <td>LUSC</td>\n",
       "      <td>white</td>\n",
       "      <td>371.0</td>\n",
       "      <td>NaN</td>\n",
       "      <td>dead</td>\n",
       "    </tr>\n",
       "    <tr>\n",
       "      <th>TCGA-18-3407</th>\n",
       "      <td>72</td>\n",
       "      <td>Male</td>\n",
       "      <td>LUSC</td>\n",
       "      <td>asian</td>\n",
       "      <td>136.0</td>\n",
       "      <td>NaN</td>\n",
       "      <td>dead</td>\n",
       "    </tr>\n",
       "    <tr>\n",
       "      <th>TCGA-18-3409</th>\n",
       "      <td>74</td>\n",
       "      <td>Male</td>\n",
       "      <td>LUSC</td>\n",
       "      <td>white</td>\n",
       "      <td>NaN</td>\n",
       "      <td>2417.0</td>\n",
       "      <td>alive</td>\n",
       "    </tr>\n",
       "    <tr>\n",
       "      <th>TCGA-18-3410</th>\n",
       "      <td>81</td>\n",
       "      <td>Male</td>\n",
       "      <td>LUSC</td>\n",
       "      <td>NaN</td>\n",
       "      <td>146.0</td>\n",
       "      <td>NaN</td>\n",
       "      <td>dead</td>\n",
       "    </tr>\n",
       "    <tr>\n",
       "      <th>TCGA-18-3416</th>\n",
       "      <td>83</td>\n",
       "      <td>Male</td>\n",
       "      <td>LUSC</td>\n",
       "      <td>NaN</td>\n",
       "      <td>NaN</td>\n",
       "      <td>956.0</td>\n",
       "      <td>alive</td>\n",
       "    </tr>\n",
       "  </tbody>\n",
       "</table>\n",
       "</div>"
      ],
      "text/plain": [
       "              Age   Sex Tissue   Race  days_to_death  days_to_last_followup  \\\n",
       "TCGA-18-3406   67  Male   LUSC  white          371.0                    NaN   \n",
       "TCGA-18-3407   72  Male   LUSC  asian          136.0                    NaN   \n",
       "TCGA-18-3409   74  Male   LUSC  white            NaN                 2417.0   \n",
       "TCGA-18-3410   81  Male   LUSC    NaN          146.0                    NaN   \n",
       "TCGA-18-3416   83  Male   LUSC    NaN            NaN                  956.0   \n",
       "\n",
       "             vital_status  \n",
       "TCGA-18-3406         dead  \n",
       "TCGA-18-3407         dead  \n",
       "TCGA-18-3409        alive  \n",
       "TCGA-18-3410         dead  \n",
       "TCGA-18-3416        alive  "
      ]
     },
     "execution_count": 16,
     "metadata": {},
     "output_type": "execute_result"
    }
   ],
   "source": [
    "clinical.head()"
   ]
  },
  {
   "cell_type": "code",
   "execution_count": 17,
   "metadata": {},
   "outputs": [
    {
     "name": "stdout",
     "output_type": "stream",
     "text": [
      "16 16\n"
     ]
    }
   ],
   "source": [
    "all_genes = ['KIR3DL3', 'KIR2DS2', 'KIR2DL2', 'KIR2DL3', 'KIR2DL5A', 'KIR2DS5', 'KIR2DP1', 'KIR2DL1', \\\n",
    "            'KIR3DP1', 'KIR2DL4', 'KIR3DL1', 'KIR3DS1', 'KIR2DS3', 'KIR2DS1', 'KIR2DS4', 'KIR3DL2']\n",
    "print len(all_genes), len(set(all_genes))"
   ]
  },
  {
   "cell_type": "code",
   "execution_count": 18,
   "metadata": {},
   "outputs": [],
   "source": [
    "def get_seq(x):\n",
    "    zero = list(x).count(0)\n",
    "    one = list(x).count(1) + zero\n",
    "    two = list(x).count(2) + one\n",
    "    three = list(x).count(3) + two\n",
    "    return [zero, one, two, three]"
   ]
  },
  {
   "cell_type": "code",
   "execution_count": 19,
   "metadata": {},
   "outputs": [],
   "source": [
    "all_dfs = []\n",
    "for gene in all_genes:\n",
    "    cps = get_seq(cn_values_df[gene])\n",
    "    temp = pd.DataFrame({'copy_number': [0, 1, 2, 3],\n",
    "                         'samples': cps})\n",
    "    temp['gene'] = gene\n",
    "    all_dfs.append(temp)\n",
    "fractions = pd.concat(all_dfs)\n",
    "fractions['sample_fraction'] = fractions.samples / len(cn_values_df.index)"
   ]
  },
  {
   "cell_type": "code",
   "execution_count": 20,
   "metadata": {},
   "outputs": [
    {
     "data": {
      "text/html": [
       "<div>\n",
       "<style scoped>\n",
       "    .dataframe tbody tr th:only-of-type {\n",
       "        vertical-align: middle;\n",
       "    }\n",
       "\n",
       "    .dataframe tbody tr th {\n",
       "        vertical-align: top;\n",
       "    }\n",
       "\n",
       "    .dataframe thead th {\n",
       "        text-align: right;\n",
       "    }\n",
       "</style>\n",
       "<table border=\"1\" class=\"dataframe\">\n",
       "  <thead>\n",
       "    <tr style=\"text-align: right;\">\n",
       "      <th></th>\n",
       "      <th>gene</th>\n",
       "      <th>samples</th>\n",
       "    </tr>\n",
       "  </thead>\n",
       "  <tbody>\n",
       "    <tr>\n",
       "      <th>0</th>\n",
       "      <td>KIR2DL1</td>\n",
       "      <td>10648</td>\n",
       "    </tr>\n",
       "    <tr>\n",
       "      <th>1</th>\n",
       "      <td>KIR2DL2</td>\n",
       "      <td>16095</td>\n",
       "    </tr>\n",
       "    <tr>\n",
       "      <th>2</th>\n",
       "      <td>KIR2DL3</td>\n",
       "      <td>12108</td>\n",
       "    </tr>\n",
       "    <tr>\n",
       "      <th>3</th>\n",
       "      <td>KIR2DL4</td>\n",
       "      <td>9253</td>\n",
       "    </tr>\n",
       "    <tr>\n",
       "      <th>4</th>\n",
       "      <td>KIR2DL5A</td>\n",
       "      <td>15624</td>\n",
       "    </tr>\n",
       "  </tbody>\n",
       "</table>\n",
       "</div>"
      ],
      "text/plain": [
       "       gene  samples\n",
       "0   KIR2DL1    10648\n",
       "1   KIR2DL2    16095\n",
       "2   KIR2DL3    12108\n",
       "3   KIR2DL4     9253\n",
       "4  KIR2DL5A    15624"
      ]
     },
     "execution_count": 20,
     "metadata": {},
     "output_type": "execute_result"
    }
   ],
   "source": [
    "tmp = pd.DataFrame(fractions.groupby('gene').sum().samples).reset_index()\n",
    "tmp.samples = tmp.samples\n",
    "tmp.head()"
   ]
  },
  {
   "cell_type": "code",
   "execution_count": 21,
   "metadata": {},
   "outputs": [
    {
     "data": {
      "text/html": [
       "<div>\n",
       "<style scoped>\n",
       "    .dataframe tbody tr th:only-of-type {\n",
       "        vertical-align: middle;\n",
       "    }\n",
       "\n",
       "    .dataframe tbody tr th {\n",
       "        vertical-align: top;\n",
       "    }\n",
       "\n",
       "    .dataframe thead th {\n",
       "        text-align: right;\n",
       "    }\n",
       "</style>\n",
       "<table border=\"1\" class=\"dataframe\">\n",
       "  <thead>\n",
       "    <tr style=\"text-align: right;\">\n",
       "      <th></th>\n",
       "      <th>copy_number</th>\n",
       "      <th>samples</th>\n",
       "      <th>gene</th>\n",
       "      <th>sample_fraction</th>\n",
       "    </tr>\n",
       "  </thead>\n",
       "  <tbody>\n",
       "    <tr>\n",
       "      <th>0</th>\n",
       "      <td>0</td>\n",
       "      <td>0</td>\n",
       "      <td>KIR3DL3</td>\n",
       "      <td>0.000000</td>\n",
       "    </tr>\n",
       "    <tr>\n",
       "      <th>1</th>\n",
       "      <td>1</td>\n",
       "      <td>21</td>\n",
       "      <td>KIR3DL3</td>\n",
       "      <td>0.004452</td>\n",
       "    </tr>\n",
       "    <tr>\n",
       "      <th>2</th>\n",
       "      <td>2</td>\n",
       "      <td>4255</td>\n",
       "      <td>KIR3DL3</td>\n",
       "      <td>0.902056</td>\n",
       "    </tr>\n",
       "    <tr>\n",
       "      <th>3</th>\n",
       "      <td>3</td>\n",
       "      <td>4684</td>\n",
       "      <td>KIR3DL3</td>\n",
       "      <td>0.993004</td>\n",
       "    </tr>\n",
       "    <tr>\n",
       "      <th>0</th>\n",
       "      <td>0</td>\n",
       "      <td>2252</td>\n",
       "      <td>KIR2DS2</td>\n",
       "      <td>0.477422</td>\n",
       "    </tr>\n",
       "    <tr>\n",
       "      <th>1</th>\n",
       "      <td>1</td>\n",
       "      <td>4508</td>\n",
       "      <td>KIR2DS2</td>\n",
       "      <td>0.955692</td>\n",
       "    </tr>\n",
       "    <tr>\n",
       "      <th>2</th>\n",
       "      <td>2</td>\n",
       "      <td>4645</td>\n",
       "      <td>KIR2DS2</td>\n",
       "      <td>0.984736</td>\n",
       "    </tr>\n",
       "    <tr>\n",
       "      <th>3</th>\n",
       "      <td>3</td>\n",
       "      <td>4690</td>\n",
       "      <td>KIR2DS2</td>\n",
       "      <td>0.994276</td>\n",
       "    </tr>\n",
       "    <tr>\n",
       "      <th>0</th>\n",
       "      <td>0</td>\n",
       "      <td>2252</td>\n",
       "      <td>KIR2DL2</td>\n",
       "      <td>0.477422</td>\n",
       "    </tr>\n",
       "    <tr>\n",
       "      <th>1</th>\n",
       "      <td>1</td>\n",
       "      <td>4508</td>\n",
       "      <td>KIR2DL2</td>\n",
       "      <td>0.955692</td>\n",
       "    </tr>\n",
       "  </tbody>\n",
       "</table>\n",
       "</div>"
      ],
      "text/plain": [
       "   copy_number  samples     gene  sample_fraction\n",
       "0            0        0  KIR3DL3         0.000000\n",
       "1            1       21  KIR3DL3         0.004452\n",
       "2            2     4255  KIR3DL3         0.902056\n",
       "3            3     4684  KIR3DL3         0.993004\n",
       "0            0     2252  KIR2DS2         0.477422\n",
       "1            1     4508  KIR2DS2         0.955692\n",
       "2            2     4645  KIR2DS2         0.984736\n",
       "3            3     4690  KIR2DS2         0.994276\n",
       "0            0     2252  KIR2DL2         0.477422\n",
       "1            1     4508  KIR2DL2         0.955692"
      ]
     },
     "execution_count": 21,
     "metadata": {},
     "output_type": "execute_result"
    }
   ],
   "source": [
    "fractions.head(10)"
   ]
  },
  {
   "cell_type": "code",
   "execution_count": 22,
   "metadata": {},
   "outputs": [],
   "source": [
    "colors = sns.color_palette(\"PuBu\", 4)"
   ]
  },
  {
   "cell_type": "code",
   "execution_count": 23,
   "metadata": {
    "scrolled": true
   },
   "outputs": [
    {
     "data": {
      "text/plain": [
       "4484"
      ]
     },
     "execution_count": 23,
     "metadata": {},
     "output_type": "execute_result"
    }
   ],
   "source": [
    "len(cn_values_df.dropna())"
   ]
  },
  {
   "cell_type": "code",
   "execution_count": 24,
   "metadata": {},
   "outputs": [
    {
     "data": {
      "text/plain": [
       "Text(0,0.5,'Fraction of samples\\nwith each copy number')"
      ]
     },
     "execution_count": 24,
     "metadata": {},
     "output_type": "execute_result"
    },
    {
     "data": {
      "image/png": "[encoded data removed]",
      "text/plain": [
       "<Figure size 432x288 with 1 Axes>"
      ]
     },
     "metadata": {},
     "output_type": "display_data"
    }
   ],
   "source": [
    "ax = sns.barplot(x='gene', y='sample_fraction', data=fractions[fractions.copy_number==3], color=colors[3])\n",
    "sns.barplot(x='gene', y='sample_fraction', data=fractions[fractions.copy_number==2], color=colors[2], ax=ax)\n",
    "sns.barplot(x='gene', y='sample_fraction', data=fractions[fractions.copy_number==1], color=colors[1], ax=ax)\n",
    "sns.barplot(x='gene', y='sample_fraction', data=fractions[fractions.copy_number==0], color=colors[0], ax=ax)\n",
    "plt.xticks(rotation=90)\n",
    "plt.xlabel('')\n",
    "plt.ylabel('Fraction of samples\\nwith each copy number')"
   ]
  },
  {
   "cell_type": "code",
   "execution_count": 25,
   "metadata": {},
   "outputs": [
    {
     "data": {
      "text/plain": [
       "Text(0,0.5,'Fraction of samples\\nwith each copy number')"
      ]
     },
     "execution_count": 25,
     "metadata": {},
     "output_type": "execute_result"
    },
    {
     "data": {
      "image/png": "[encoded data removed]",
      "text/plain": [
       "<Figure size 432x288 with 1 Axes>"
      ]
     },
     "metadata": {},
     "output_type": "display_data"
    }
   ],
   "source": [
    "ax = sns.barplot(x='gene', y='sample_fraction', data=fractions[fractions.copy_number==3], color=colors[3])\n",
    "sns.barplot(x='gene', y='sample_fraction', data=fractions[fractions.copy_number==2], color=colors[2], ax=ax)\n",
    "sns.barplot(x='gene', y='sample_fraction', data=fractions[fractions.copy_number==1], color=colors[1], ax=ax)\n",
    "sns.barplot(x='gene', y='sample_fraction', data=fractions[fractions.copy_number==0], color=colors[0], ax=ax)\n",
    "plt.xticks(rotation=90)\n",
    "plt.xlabel('')\n",
    "plt.ylabel('Fraction of samples\\nwith each copy number')\n",
    "#plt.savefig('/cellar/users/ramarty/Data/kir/figures/gene_frequencies.stacked_bars.pdf')"
   ]
  },
  {
   "cell_type": "code",
   "execution_count": 26,
   "metadata": {},
   "outputs": [
    {
     "data": {
      "image/png": "[encoded data removed]",
      "text/plain": [
       "<Figure size 144x36 with 1 Axes>"
      ]
     },
     "metadata": {},
     "output_type": "display_data"
    }
   ],
   "source": [
    "sns.palplot(sns.color_palette(\"PuBu\", 4), size=.5)\n",
    "plt.text(.5, -1.5, 'Copy Number')\n",
    "plt.text(0, -.8, '0')\n",
    "plt.text(1, -.8, '1')\n",
    "plt.text(2, -.8, '2')\n",
    "plt.text(3, -.8, '3+')\n",
    "plt.show()\n",
    "#plt.savefig('/cellar/users/ramarty/Data/kir/figures/gene_frequencies.stacked_bars.colors.pdf')"
   ]
  },
  {
   "cell_type": "markdown",
   "metadata": {},
   "source": [
    "### Validation"
   ]
  },
  {
   "cell_type": "code",
   "execution_count": 27,
   "metadata": {},
   "outputs": [],
   "source": [
    "freqs = pd.read_csv('/cellar/users/ramarty/Data/kir/validation/frequencies/gene_frequencies.csv', header=None)\n",
    "freqs.columns = ['gene', 'TCGA', 'CaucasianPopulation']"
   ]
  },
  {
   "cell_type": "code",
   "execution_count": 28,
   "metadata": {},
   "outputs": [
    {
     "data": {
      "text/html": [
       "<div>\n",
       "<style scoped>\n",
       "    .dataframe tbody tr th:only-of-type {\n",
       "        vertical-align: middle;\n",
       "    }\n",
       "\n",
       "    .dataframe tbody tr th {\n",
       "        vertical-align: top;\n",
       "    }\n",
       "\n",
       "    .dataframe thead th {\n",
       "        text-align: right;\n",
       "    }\n",
       "</style>\n",
       "<table border=\"1\" class=\"dataframe\">\n",
       "  <thead>\n",
       "    <tr style=\"text-align: right;\">\n",
       "      <th></th>\n",
       "      <th>gene</th>\n",
       "      <th>TCGA</th>\n",
       "      <th>CaucasianPopulation</th>\n",
       "    </tr>\n",
       "  </thead>\n",
       "  <tbody>\n",
       "    <tr>\n",
       "      <th>0</th>\n",
       "      <td>KIR3DL3</td>\n",
       "      <td>1.00</td>\n",
       "      <td>0.9990</td>\n",
       "    </tr>\n",
       "    <tr>\n",
       "      <th>1</th>\n",
       "      <td>KIR2DS2</td>\n",
       "      <td>0.34</td>\n",
       "      <td>0.3019</td>\n",
       "    </tr>\n",
       "    <tr>\n",
       "      <th>2</th>\n",
       "      <td>KIR2DL3</td>\n",
       "      <td>0.70</td>\n",
       "      <td>0.6946</td>\n",
       "    </tr>\n",
       "    <tr>\n",
       "      <th>3</th>\n",
       "      <td>KIR2DL2</td>\n",
       "      <td>0.34</td>\n",
       "      <td>0.2947</td>\n",
       "    </tr>\n",
       "    <tr>\n",
       "      <th>4</th>\n",
       "      <td>KIR2DL5A</td>\n",
       "      <td>0.35</td>\n",
       "      <td>0.3555</td>\n",
       "    </tr>\n",
       "    <tr>\n",
       "      <th>5</th>\n",
       "      <td>KIR2DS3</td>\n",
       "      <td>0.18</td>\n",
       "      <td>0.1400</td>\n",
       "    </tr>\n",
       "    <tr>\n",
       "      <th>6</th>\n",
       "      <td>KIR2DP1</td>\n",
       "      <td>0.84</td>\n",
       "      <td>0.8229</td>\n",
       "    </tr>\n",
       "    <tr>\n",
       "      <th>7</th>\n",
       "      <td>KIR2DL1</td>\n",
       "      <td>0.84</td>\n",
       "      <td>0.8209</td>\n",
       "    </tr>\n",
       "    <tr>\n",
       "      <th>8</th>\n",
       "      <td>KIR3DP1</td>\n",
       "      <td>1.00</td>\n",
       "      <td>0.9837</td>\n",
       "    </tr>\n",
       "    <tr>\n",
       "      <th>9</th>\n",
       "      <td>KIR2DL4</td>\n",
       "      <td>1.00</td>\n",
       "      <td>0.9843</td>\n",
       "    </tr>\n",
       "    <tr>\n",
       "      <th>10</th>\n",
       "      <td>KIR3DL1</td>\n",
       "      <td>0.80</td>\n",
       "      <td>0.7763</td>\n",
       "    </tr>\n",
       "    <tr>\n",
       "      <th>11</th>\n",
       "      <td>KIR3DS1</td>\n",
       "      <td>0.24</td>\n",
       "      <td>0.2239</td>\n",
       "    </tr>\n",
       "    <tr>\n",
       "      <th>12</th>\n",
       "      <td>KIR2DS5</td>\n",
       "      <td>0.17</td>\n",
       "      <td>0.1800</td>\n",
       "    </tr>\n",
       "    <tr>\n",
       "      <th>13</th>\n",
       "      <td>KIR2DS4</td>\n",
       "      <td>0.80</td>\n",
       "      <td>0.7762</td>\n",
       "    </tr>\n",
       "    <tr>\n",
       "      <th>14</th>\n",
       "      <td>KIR2DS1</td>\n",
       "      <td>0.24</td>\n",
       "      <td>0.2226</td>\n",
       "    </tr>\n",
       "    <tr>\n",
       "      <th>15</th>\n",
       "      <td>KIR3DL2</td>\n",
       "      <td>1.00</td>\n",
       "      <td>0.9970</td>\n",
       "    </tr>\n",
       "  </tbody>\n",
       "</table>\n",
       "</div>"
      ],
      "text/plain": [
       "        gene  TCGA  CaucasianPopulation\n",
       "0    KIR3DL3  1.00               0.9990\n",
       "1    KIR2DS2  0.34               0.3019\n",
       "2    KIR2DL3  0.70               0.6946\n",
       "3    KIR2DL2  0.34               0.2947\n",
       "4   KIR2DL5A  0.35               0.3555\n",
       "5    KIR2DS3  0.18               0.1400\n",
       "6    KIR2DP1  0.84               0.8229\n",
       "7    KIR2DL1  0.84               0.8209\n",
       "8    KIR3DP1  1.00               0.9837\n",
       "9    KIR2DL4  1.00               0.9843\n",
       "10   KIR3DL1  0.80               0.7763\n",
       "11   KIR3DS1  0.24               0.2239\n",
       "12   KIR2DS5  0.17               0.1800\n",
       "13   KIR2DS4  0.80               0.7762\n",
       "14   KIR2DS1  0.24               0.2226\n",
       "15   KIR3DL2  1.00               0.9970"
      ]
     },
     "execution_count": 28,
     "metadata": {},
     "output_type": "execute_result"
    }
   ],
   "source": [
    "freqs"
   ]
  },
  {
   "cell_type": "code",
   "execution_count": 29,
   "metadata": {},
   "outputs": [],
   "source": [
    "white_patients = list(clinical[clinical.Race == 'white'].index)\n",
    "means = pd.DataFrame(cn_values_df.reindex(white_patients).mean()/2).reset_index()\n",
    "means.columns = ['gene', 'freq_in_pop']\n",
    "\n",
    "freqs = pd.merge(freqs, means, on='gene', how='inner')\n",
    "freqs['TCGA_white'] = freqs.freq_in_pop\n",
    "\n",
    "freqs = freqs[['gene', 'CaucasianPopulation', 'TCGA_white']]"
   ]
  },
  {
   "cell_type": "code",
   "execution_count": 30,
   "metadata": {},
   "outputs": [
    {
     "data": {
      "text/html": [
       "<div>\n",
       "<style scoped>\n",
       "    .dataframe tbody tr th:only-of-type {\n",
       "        vertical-align: middle;\n",
       "    }\n",
       "\n",
       "    .dataframe tbody tr th {\n",
       "        vertical-align: top;\n",
       "    }\n",
       "\n",
       "    .dataframe thead th {\n",
       "        text-align: right;\n",
       "    }\n",
       "</style>\n",
       "<table border=\"1\" class=\"dataframe\">\n",
       "  <thead>\n",
       "    <tr style=\"text-align: right;\">\n",
       "      <th></th>\n",
       "      <th>gene</th>\n",
       "      <th>CaucasianPopulation</th>\n",
       "      <th>TCGA_white</th>\n",
       "    </tr>\n",
       "  </thead>\n",
       "  <tbody>\n",
       "    <tr>\n",
       "      <th>0</th>\n",
       "      <td>KIR3DL3</td>\n",
       "      <td>0.9990</td>\n",
       "      <td>1.050767</td>\n",
       "    </tr>\n",
       "    <tr>\n",
       "      <th>1</th>\n",
       "      <td>KIR2DS2</td>\n",
       "      <td>0.3019</td>\n",
       "      <td>0.295379</td>\n",
       "    </tr>\n",
       "    <tr>\n",
       "      <th>2</th>\n",
       "      <td>KIR2DL3</td>\n",
       "      <td>0.6946</td>\n",
       "      <td>0.706143</td>\n",
       "    </tr>\n",
       "    <tr>\n",
       "      <th>3</th>\n",
       "      <td>KIR2DL2</td>\n",
       "      <td>0.2947</td>\n",
       "      <td>0.295379</td>\n",
       "    </tr>\n",
       "    <tr>\n",
       "      <th>4</th>\n",
       "      <td>KIR2DL5A</td>\n",
       "      <td>0.3555</td>\n",
       "      <td>0.335750</td>\n",
       "    </tr>\n",
       "    <tr>\n",
       "      <th>5</th>\n",
       "      <td>KIR2DS3</td>\n",
       "      <td>0.1400</td>\n",
       "      <td>0.156259</td>\n",
       "    </tr>\n",
       "    <tr>\n",
       "      <th>6</th>\n",
       "      <td>KIR2DP1</td>\n",
       "      <td>0.8229</td>\n",
       "      <td>0.868187</td>\n",
       "    </tr>\n",
       "    <tr>\n",
       "      <th>7</th>\n",
       "      <td>KIR2DL1</td>\n",
       "      <td>0.8209</td>\n",
       "      <td>0.860841</td>\n",
       "    </tr>\n",
       "    <tr>\n",
       "      <th>8</th>\n",
       "      <td>KIR3DP1</td>\n",
       "      <td>0.9837</td>\n",
       "      <td>1.021285</td>\n",
       "    </tr>\n",
       "    <tr>\n",
       "      <th>9</th>\n",
       "      <td>KIR2DL4</td>\n",
       "      <td>0.9843</td>\n",
       "      <td>1.019750</td>\n",
       "    </tr>\n",
       "    <tr>\n",
       "      <th>10</th>\n",
       "      <td>KIR3DL1</td>\n",
       "      <td>0.7763</td>\n",
       "      <td>0.819394</td>\n",
       "    </tr>\n",
       "    <tr>\n",
       "      <th>11</th>\n",
       "      <td>KIR3DS1</td>\n",
       "      <td>0.2239</td>\n",
       "      <td>0.199332</td>\n",
       "    </tr>\n",
       "    <tr>\n",
       "      <th>12</th>\n",
       "      <td>KIR2DS5</td>\n",
       "      <td>0.1800</td>\n",
       "      <td>0.178899</td>\n",
       "    </tr>\n",
       "    <tr>\n",
       "      <th>13</th>\n",
       "      <td>KIR2DS4</td>\n",
       "      <td>0.7762</td>\n",
       "      <td>0.819394</td>\n",
       "    </tr>\n",
       "    <tr>\n",
       "      <th>14</th>\n",
       "      <td>KIR2DS1</td>\n",
       "      <td>0.2226</td>\n",
       "      <td>0.199332</td>\n",
       "    </tr>\n",
       "    <tr>\n",
       "      <th>15</th>\n",
       "      <td>KIR3DL2</td>\n",
       "      <td>0.9970</td>\n",
       "      <td>1.038718</td>\n",
       "    </tr>\n",
       "  </tbody>\n",
       "</table>\n",
       "</div>"
      ],
      "text/plain": [
       "        gene  CaucasianPopulation  TCGA_white\n",
       "0    KIR3DL3               0.9990    1.050767\n",
       "1    KIR2DS2               0.3019    0.295379\n",
       "2    KIR2DL3               0.6946    0.706143\n",
       "3    KIR2DL2               0.2947    0.295379\n",
       "4   KIR2DL5A               0.3555    0.335750\n",
       "5    KIR2DS3               0.1400    0.156259\n",
       "6    KIR2DP1               0.8229    0.868187\n",
       "7    KIR2DL1               0.8209    0.860841\n",
       "8    KIR3DP1               0.9837    1.021285\n",
       "9    KIR2DL4               0.9843    1.019750\n",
       "10   KIR3DL1               0.7763    0.819394\n",
       "11   KIR3DS1               0.2239    0.199332\n",
       "12   KIR2DS5               0.1800    0.178899\n",
       "13   KIR2DS4               0.7762    0.819394\n",
       "14   KIR2DS1               0.2226    0.199332\n",
       "15   KIR3DL2               0.9970    1.038718"
      ]
     },
     "execution_count": 30,
     "metadata": {},
     "output_type": "execute_result"
    }
   ],
   "source": [
    "freqs"
   ]
  },
  {
   "cell_type": "code",
   "execution_count": 31,
   "metadata": {},
   "outputs": [
    {
     "data": {
      "image/png": "[encoded data removed]",
      "text/plain": [
       "<Figure size 288x288 with 1 Axes>"
      ]
     },
     "metadata": {},
     "output_type": "display_data"
    }
   ],
   "source": [
    "fig, ax = plt.subplots(figsize=(4,4))\n",
    "plt.scatter(freqs.TCGA_white, freqs.CaucasianPopulation, c='k', s=30)\n",
    "plt.xlabel('Caucaisans in TCGA')\n",
    "plt.ylabel('Alternate Caucasian Population')\n",
    "\n",
    "for i, txt in enumerate(freqs.gene):\n",
    "    ax.annotate(txt, (freqs.TCGA_white[i],freqs.CaucasianPopulation[i]))"
   ]
  },
  {
   "cell_type": "code",
   "execution_count": 32,
   "metadata": {},
   "outputs": [
    {
     "data": {
      "text/plain": [
       "0.9992683391462626"
      ]
     },
     "execution_count": 32,
     "metadata": {},
     "output_type": "execute_result"
    }
   ],
   "source": [
    "sp.pearsonr(freqs.CaucasianPopulation, freqs.TCGA_white)[0]"
   ]
  },
  {
   "cell_type": "code",
   "execution_count": null,
   "metadata": {},
   "outputs": [],
   "source": []
  },
  {
   "cell_type": "code",
   "execution_count": 33,
   "metadata": {},
   "outputs": [
    {
     "data": {
      "image/png": "[encoded data removed]",
      "text/plain": [
       "<Figure size 288x288 with 1 Axes>"
      ]
     },
     "metadata": {},
     "output_type": "display_data"
    }
   ],
   "source": [
    "fig, ax = plt.subplots(figsize=(4,4))\n",
    "plt.scatter(freqs.TCGA_white, freqs.CaucasianPopulation, c='k', s=30)\n",
    "plt.xlabel('Caucaisans in TCGA')\n",
    "plt.ylabel('Alternate Caucasian Population')\n",
    "\n",
    "for i, txt in enumerate(freqs.gene):\n",
    "    ax.annotate(txt, (freqs.TCGA_white[i],freqs.CaucasianPopulation[i]))\n",
    "#plt.savefig('/cellar/users/ramarty/Data/kir/figures/population_frequencies.white.pdf')"
   ]
  },
  {
   "cell_type": "code",
   "execution_count": 34,
   "metadata": {},
   "outputs": [
    {
     "data": {
      "text/plain": [
       "0.9992683391462626"
      ]
     },
     "execution_count": 34,
     "metadata": {},
     "output_type": "execute_result"
    }
   ],
   "source": [
    "sp.pearsonr(freqs.CaucasianPopulation, freqs.TCGA_white)[0]"
   ]
  },
  {
   "cell_type": "markdown",
   "metadata": {},
   "source": [
    "#### Combine into single figure"
   ]
  },
  {
   "cell_type": "code",
   "execution_count": 37,
   "metadata": {},
   "outputs": [
    {
     "data": {
      "image/png": "[encoded data removed]",
      "text/plain": [
       "<Figure size 720x216 with 2 Axes>"
      ]
     },
     "metadata": {},
     "output_type": "display_data"
    }
   ],
   "source": [
    "fig = plt.figure(figsize=(10, 3))\n",
    "num_rows, num_columns = 1, 8\n",
    "\n",
    "ax0 = plt.subplot2grid((num_rows, num_columns), (0, 0), rowspan=1, colspan=4)\n",
    "ax = sns.barplot(x='gene', y='sample_fraction', data=fractions[fractions.copy_number==3], color=colors[3])\n",
    "sns.barplot(x='gene', y='sample_fraction', data=fractions[fractions.copy_number==2], color=colors[2], ax=ax)\n",
    "sns.barplot(x='gene', y='sample_fraction', data=fractions[fractions.copy_number==1], color=colors[1], ax=ax)\n",
    "sns.barplot(x='gene', y='sample_fraction', data=fractions[fractions.copy_number==0], color=colors[0], ax=ax)\n",
    "plt.xticks(rotation=90)\n",
    "plt.xlabel('')\n",
    "plt.ylabel('Fraction of samples\\nwith each copy number')\n",
    "plt.text(-3, 1.1, 'A', size= 22)\n",
    "\n",
    "ax2 = plt.subplot2grid((num_rows, num_columns), (0, 5), rowspan=1, colspan=3)\n",
    "plt.scatter(freqs.TCGA_white, freqs.CaucasianPopulation, c='k', s=30)\n",
    "plt.xlabel('Caucaisans in TCGA')\n",
    "plt.ylabel('Alternate Caucasian Population')\n",
    "\n",
    "for i, txt in enumerate(freqs.gene):\n",
    "    ax2.annotate(txt, (freqs.TCGA_white[i],freqs.CaucasianPopulation[i]))\n",
    "plt.text(-0.2, 1.1, 'B', size= 22)\n",
    "\n",
    "plt.savefig('/cellar/users/ramarty/Data/kir/manuscript_figures/figure_6.pdf', bbox_inches='tight')"
   ]
  },
  {
   "cell_type": "code",
   "execution_count": null,
   "metadata": {},
   "outputs": [],
   "source": []
  },
  {
   "cell_type": "code",
   "execution_count": null,
   "metadata": {},
   "outputs": [],
   "source": []
  }
 ],
 "metadata": {
  "kernelspec": {
   "display_name": "Python 3",
   "language": "python",
   "name": "python3"
  },
  "language_info": {
   "codemirror_mode": {
    "name": "ipython",
    "version": 3
   },
   "file_extension": ".py",
   "mimetype": "text/x-python",
   "name": "python",
   "nbconvert_exporter": "python",
   "pygments_lexer": "ipython3",
   "version": "3.7.3"
  }
 },
 "nbformat": 4,
 "nbformat_minor": 2
}
